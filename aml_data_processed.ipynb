{
 "cells": [
  {
   "cell_type": "markdown",
   "metadata": {},
   "source": [
    "### Imports\n",
    "---"
   ]
  },
  {
   "cell_type": "code",
   "execution_count": 1,
   "metadata": {},
   "outputs": [],
   "source": [
    "import pandas as pd\n",
    "from faker import Faker\n",
    "import random\n",
    "import pandas as pd\n",
    "from tqdm import tqdm"
   ]
  },
  {
   "cell_type": "markdown",
   "metadata": {},
   "source": [
    "### Load data\n",
    "---"
   ]
  },
  {
   "cell_type": "code",
   "execution_count": 2,
   "metadata": {},
   "outputs": [],
   "source": [
    "dataframe = pd.read_csv(\"src/data/HI-Small_Trans.csv\")"
   ]
  },
  {
   "cell_type": "code",
   "execution_count": 3,
   "metadata": {},
   "outputs": [
    {
     "data": {
      "text/plain": [
       "(5078345, 11)"
      ]
     },
     "execution_count": 3,
     "metadata": {},
     "output_type": "execute_result"
    }
   ],
   "source": [
    "dataframe.shape"
   ]
  },
  {
   "cell_type": "markdown",
   "metadata": {},
   "source": [
    "### Transformations\n",
    "---"
   ]
  },
  {
   "cell_type": "code",
   "execution_count": 4,
   "metadata": {},
   "outputs": [],
   "source": [
    "dataframe.columns = dataframe.columns.str.lower()\n",
    "dataframe.columns = dataframe.columns.str.replace(' ', \"_\")"
   ]
  },
  {
   "cell_type": "code",
   "execution_count": 5,
   "metadata": {},
   "outputs": [],
   "source": [
    "dataframe[[\"from_bank\", \"to_bank\"]] = dataframe[[\"from_bank\", \"to_bank\"]].astype(str)"
   ]
  },
  {
   "cell_type": "code",
   "execution_count": 6,
   "metadata": {},
   "outputs": [
    {
     "data": {
      "text/html": [
       "<div>\n",
       "<style scoped>\n",
       "    .dataframe tbody tr th:only-of-type {\n",
       "        vertical-align: middle;\n",
       "    }\n",
       "\n",
       "    .dataframe tbody tr th {\n",
       "        vertical-align: top;\n",
       "    }\n",
       "\n",
       "    .dataframe thead th {\n",
       "        text-align: right;\n",
       "    }\n",
       "</style>\n",
       "<table border=\"1\" class=\"dataframe\">\n",
       "  <thead>\n",
       "    <tr style=\"text-align: right;\">\n",
       "      <th></th>\n",
       "      <th>timestamp</th>\n",
       "      <th>from_bank</th>\n",
       "      <th>account</th>\n",
       "      <th>to_bank</th>\n",
       "      <th>account.1</th>\n",
       "      <th>amount_received</th>\n",
       "      <th>receiving_currency</th>\n",
       "      <th>amount_paid</th>\n",
       "      <th>payment_currency</th>\n",
       "      <th>payment_format</th>\n",
       "      <th>is_laundering</th>\n",
       "    </tr>\n",
       "  </thead>\n",
       "  <tbody>\n",
       "    <tr>\n",
       "      <th>0</th>\n",
       "      <td>2022/09/01 00:20</td>\n",
       "      <td>10</td>\n",
       "      <td>8000EBD30</td>\n",
       "      <td>10</td>\n",
       "      <td>8000EBD30</td>\n",
       "      <td>3697.34</td>\n",
       "      <td>US Dollar</td>\n",
       "      <td>3697.34</td>\n",
       "      <td>US Dollar</td>\n",
       "      <td>Reinvestment</td>\n",
       "      <td>0</td>\n",
       "    </tr>\n",
       "    <tr>\n",
       "      <th>1</th>\n",
       "      <td>2022/09/01 00:20</td>\n",
       "      <td>3208</td>\n",
       "      <td>8000F4580</td>\n",
       "      <td>1</td>\n",
       "      <td>8000F5340</td>\n",
       "      <td>0.01</td>\n",
       "      <td>US Dollar</td>\n",
       "      <td>0.01</td>\n",
       "      <td>US Dollar</td>\n",
       "      <td>Cheque</td>\n",
       "      <td>0</td>\n",
       "    </tr>\n",
       "  </tbody>\n",
       "</table>\n",
       "</div>"
      ],
      "text/plain": [
       "          timestamp from_bank    account to_bank  account.1  amount_received  \\\n",
       "0  2022/09/01 00:20        10  8000EBD30      10  8000EBD30          3697.34   \n",
       "1  2022/09/01 00:20      3208  8000F4580       1  8000F5340             0.01   \n",
       "\n",
       "  receiving_currency  amount_paid payment_currency payment_format  \\\n",
       "0          US Dollar      3697.34        US Dollar   Reinvestment   \n",
       "1          US Dollar         0.01        US Dollar         Cheque   \n",
       "\n",
       "   is_laundering  \n",
       "0              0  \n",
       "1              0  "
      ]
     },
     "execution_count": 6,
     "metadata": {},
     "output_type": "execute_result"
    }
   ],
   "source": [
    "dataframe.head(2)"
   ]
  },
  {
   "cell_type": "code",
   "execution_count": 7,
   "metadata": {},
   "outputs": [],
   "source": [
    "dataframe[\"sender\"] = dataframe[\"from_bank\"] + \"_\" + dataframe[\"account\"]\n",
    "dataframe[\"receiver\"] = dataframe[\"to_bank\"] + \"_\" + dataframe[\"account.1\"]"
   ]
  },
  {
   "cell_type": "code",
   "execution_count": 8,
   "metadata": {},
   "outputs": [],
   "source": [
    "filtered_dataframe = dataframe[dataframe[\"payment_format\"] != \"Reinvestment\"]"
   ]
  },
  {
   "cell_type": "code",
   "execution_count": 9,
   "metadata": {},
   "outputs": [],
   "source": [
    "filtered_dataframe = filtered_dataframe[[\n",
    " \"timestamp\",\n",
    " \"sender\",\n",
    " \"receiver\",\n",
    " \"amount_received\",\n",
    " \"receiving_currency\",\n",
    " \"amount_paid\",\n",
    " \"payment_currency\",\n",
    " \"payment_format\",\n",
    " \"is_laundering\",\n",
    "]]"
   ]
  },
  {
   "cell_type": "code",
   "execution_count": 10,
   "metadata": {},
   "outputs": [],
   "source": [
    "filtered_dataframe.to_csv(\"src/data/full_transactions_data.csv\", index=False)"
   ]
  },
  {
   "cell_type": "code",
   "execution_count": 11,
   "metadata": {},
   "outputs": [],
   "source": [
    "filtered_dataframe = filtered_dataframe.groupby([\"sender\", \"receiver\"], as_index=False).agg({\"amount_paid\":  \"sum\"})\n",
    "filtered_dataframe.columns = ['sender','receiver','sum']\n",
    "filtered_dataframe = filtered_dataframe.rename(columns={\"sum\": \"value\"})\n",
    "filtered_dataframe[\"title\"] = filtered_dataframe.apply(lambda df: f\"from: {df.sender}\\nto: {df.receiver}\\namount (BRL): {df.value}\", axis=1)"
   ]
  },
  {
   "cell_type": "code",
   "execution_count": 12,
   "metadata": {},
   "outputs": [],
   "source": [
    "filtered_dataframe.to_csv(\"src/data/network_analysis_data.csv\", index=False)"
   ]
  },
  {
   "cell_type": "markdown",
   "metadata": {},
   "source": [
    "### Generate fake customer data\n",
    "---"
   ]
  },
  {
   "cell_type": "code",
   "execution_count": null,
   "metadata": {},
   "outputs": [],
   "source": [
    "all_clients = pd.read_csv(\"src/data/full_transactions_data.csv\")"
   ]
  },
  {
   "cell_type": "code",
   "execution_count": null,
   "metadata": {},
   "outputs": [],
   "source": [
    "all_clients = all_clients.groupby(by=\"sender\", as_index=False).timestamp.count().sort_values(\"timestamp\", ascending=False)"
   ]
  },
  {
   "cell_type": "code",
   "execution_count": null,
   "metadata": {},
   "outputs": [],
   "source": [
    "all_clients_id = set(all_clients[\"sender\"])"
   ]
  },
  {
   "cell_type": "code",
   "execution_count": null,
   "metadata": {},
   "outputs": [],
   "source": [
    "fake = Faker()\n",
    "Faker.seed(42)"
   ]
  },
  {
   "cell_type": "code",
   "execution_count": null,
   "metadata": {},
   "outputs": [],
   "source": [
    "fake.phone_number()"
   ]
  },
  {
   "cell_type": "code",
   "execution_count": null,
   "metadata": {},
   "outputs": [],
   "source": [
    "data = []\n",
    "bar = tqdm(total=len(all_clients_id))\n",
    "for client_id in all_clients_id:\n",
    "    location = fake.location_on_land()\n",
    "    data.append({\n",
    "        \"account_id\": client_id,\n",
    "        \"name\": fake.name(),\n",
    "        \"email\": fake.email(),\n",
    "        \"mobile\": fake.phone_number(),\n",
    "        \"location\": f\"{location[2]} - {location[3]} - {location[4]}\",\n",
    "        \"registration_date\": fake.date_this_year(),\n",
    "    })\n",
    "    bar.update(1)\n",
    "df = pd.DataFrame(data)"
   ]
  },
  {
   "cell_type": "code",
   "execution_count": null,
   "metadata": {},
   "outputs": [],
   "source": [
    "df.head()"
   ]
  },
  {
   "cell_type": "code",
   "execution_count": null,
   "metadata": {},
   "outputs": [],
   "source": [
    "df.to_csv('src/data/accounts_details.csv', index=False)"
   ]
  }
 ],
 "metadata": {
  "kernelspec": {
   "display_name": "Python 3",
   "language": "python",
   "name": "python3"
  },
  "language_info": {
   "codemirror_mode": {
    "name": "ipython",
    "version": 3
   },
   "file_extension": ".py",
   "mimetype": "text/x-python",
   "name": "python",
   "nbconvert_exporter": "python",
   "pygments_lexer": "ipython3",
   "version": "3.12.5"
  }
 },
 "nbformat": 4,
 "nbformat_minor": 2
}
