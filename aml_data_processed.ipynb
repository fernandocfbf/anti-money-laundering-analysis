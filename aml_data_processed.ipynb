{
 "cells": [
  {
   "cell_type": "markdown",
   "metadata": {},
   "source": [
    "### Imports\n",
    "---"
   ]
  },
  {
   "cell_type": "code",
   "execution_count": 1,
   "metadata": {},
   "outputs": [],
   "source": [
    "import pandas as pd\n",
    "from faker import Faker\n",
    "import random\n",
    "import pandas as pd\n",
    "from tqdm import tqdm"
   ]
  },
  {
   "cell_type": "markdown",
   "metadata": {},
   "source": [
    "### Load data\n",
    "---"
   ]
  },
  {
   "cell_type": "code",
   "execution_count": null,
   "metadata": {},
   "outputs": [],
   "source": [
    "dataframe = pd.read_csv(\"src/data/HI-Small_Trans.csv\")"
   ]
  },
  {
   "cell_type": "code",
   "execution_count": null,
   "metadata": {},
   "outputs": [],
   "source": [
    "dataframe.head(2)"
   ]
  },
  {
   "cell_type": "code",
   "execution_count": null,
   "metadata": {},
   "outputs": [],
   "source": [
    "dataframe.shape"
   ]
  },
  {
   "cell_type": "markdown",
   "metadata": {},
   "source": [
    "### Transformations\n",
    "---"
   ]
  },
  {
   "cell_type": "code",
   "execution_count": null,
   "metadata": {},
   "outputs": [],
   "source": [
    "filtered_dataframe = dataframe[dataframe[\"Amount Paid\"] == dataframe[\"Amount Received\"]]"
   ]
  },
  {
   "cell_type": "code",
   "execution_count": null,
   "metadata": {},
   "outputs": [],
   "source": [
    "filtered_dataframe.columns = filtered_dataframe.columns.str.lower()\n",
    "filtered_dataframe.columns = filtered_dataframe.columns.str.replace(' ', \"_\")"
   ]
  },
  {
   "cell_type": "code",
   "execution_count": null,
   "metadata": {},
   "outputs": [],
   "source": [
    "filtered_dataframe[[\"from_bank\", \"to_bank\"]] = filtered_dataframe[[\"from_bank\", \"to_bank\"]].astype(str)"
   ]
  },
  {
   "cell_type": "code",
   "execution_count": null,
   "metadata": {},
   "outputs": [],
   "source": [
    "filtered_dataframe.head(2)"
   ]
  },
  {
   "cell_type": "code",
   "execution_count": null,
   "metadata": {},
   "outputs": [],
   "source": [
    "filtered_dataframe[\"sender\"] = filtered_dataframe[\"from_bank\"] + \"_\" + filtered_dataframe[\"account\"]\n",
    "filtered_dataframe[\"receiver\"] = filtered_dataframe[\"to_bank\"] + \"_\" + filtered_dataframe[\"account.1\"]"
   ]
  },
  {
   "cell_type": "code",
   "execution_count": null,
   "metadata": {},
   "outputs": [],
   "source": [
    "filtered_dataframe = filtered_dataframe[[\n",
    " \"timestamp\",\n",
    " \"sender\",\n",
    " \"receiver\",\n",
    " \"amount_received\",\n",
    " \"receiving_currency\",\n",
    " \"amount_paid\",\n",
    " \"payment_currency\",\n",
    " \"payment_format\",\n",
    " \"is_laundering\",\n",
    "]]"
   ]
  },
  {
   "cell_type": "code",
   "execution_count": null,
   "metadata": {},
   "outputs": [],
   "source": [
    "filtered_dataframe = filtered_dataframe.query(\"sender != receiver\")"
   ]
  },
  {
   "cell_type": "code",
   "execution_count": null,
   "metadata": {},
   "outputs": [],
   "source": [
    "filtered_dataframe.to_csv(\"src/data/full_transactions_data.csv\", index=False)"
   ]
  },
  {
   "cell_type": "code",
   "execution_count": null,
   "metadata": {},
   "outputs": [],
   "source": [
    "filtered_dataframe = filtered_dataframe.groupby([\"sender\", \"receiver\"], as_index=False).agg({\"amount_paid\":  \"sum\"})\n",
    "filtered_dataframe.columns = ['sender','receiver','sum']\n",
    "filtered_dataframe = filtered_dataframe.rename(columns={\"sum\": \"value\"})\n",
    "filtered_dataframe[\"title\"] = filtered_dataframe.apply(lambda df: f\"from: {df.sender}\\nto: {df.receiver}\\namount (BRL): {df.value}\", axis=1)"
   ]
  },
  {
   "cell_type": "code",
   "execution_count": null,
   "metadata": {},
   "outputs": [],
   "source": [
    "filtered_dataframe.to_csv(\"src/data/network_analysis_data.csv\", index=False)"
   ]
  },
  {
   "cell_type": "markdown",
   "metadata": {},
   "source": [
    "### Generate fake customer data\n",
    "---"
   ]
  },
  {
   "cell_type": "code",
   "execution_count": 7,
   "metadata": {},
   "outputs": [],
   "source": [
    "all_clients = pd.read_csv(\"src/data/full_transactions_data.csv\")"
   ]
  },
  {
   "cell_type": "code",
   "execution_count": 8,
   "metadata": {},
   "outputs": [],
   "source": [
    "all_clients = all_clients.groupby(by=\"sender\", as_index=False).timestamp.count().sort_values(\"timestamp\", ascending=False)"
   ]
  },
  {
   "cell_type": "code",
   "execution_count": 9,
   "metadata": {},
   "outputs": [],
   "source": [
    "all_clients_id = set(all_clients[\"sender\"])"
   ]
  },
  {
   "cell_type": "code",
   "execution_count": 3,
   "metadata": {},
   "outputs": [],
   "source": [
    "fake = Faker()\n",
    "Faker.seed(42)"
   ]
  },
  {
   "cell_type": "code",
   "execution_count": 6,
   "metadata": {},
   "outputs": [
    {
     "data": {
      "text/plain": [
       "'001-740-326-5423'"
      ]
     },
     "execution_count": 6,
     "metadata": {},
     "output_type": "execute_result"
    }
   ],
   "source": [
    "fake.phone_number()"
   ]
  },
  {
   "cell_type": "code",
   "execution_count": 10,
   "metadata": {},
   "outputs": [
    {
     "name": "stderr",
     "output_type": "stream",
     "text": [
      "100%|█████████▉| 305614/305756 [01:18<00:00, 3908.23it/s]"
     ]
    }
   ],
   "source": [
    "data = []\n",
    "bar = tqdm(total=len(all_clients_id))\n",
    "for client_id in all_clients_id:\n",
    "    location = fake.location_on_land()\n",
    "    data.append({\n",
    "        \"account_id\": client_id,\n",
    "        \"name\": fake.name(),\n",
    "        \"email\": fake.email(),\n",
    "        \"mobile\": fake.phone_number(),\n",
    "        \"location\": f\"{location[2]} - {location[3]} - {location[4]}\",\n",
    "        \"registration_date\": fake.date_this_year(),\n",
    "    })\n",
    "    bar.update(1)\n",
    "df = pd.DataFrame(data)"
   ]
  },
  {
   "cell_type": "code",
   "execution_count": 11,
   "metadata": {},
   "outputs": [
    {
     "data": {
      "text/html": [
       "<div>\n",
       "<style scoped>\n",
       "    .dataframe tbody tr th:only-of-type {\n",
       "        vertical-align: middle;\n",
       "    }\n",
       "\n",
       "    .dataframe tbody tr th {\n",
       "        vertical-align: top;\n",
       "    }\n",
       "\n",
       "    .dataframe thead th {\n",
       "        text-align: right;\n",
       "    }\n",
       "</style>\n",
       "<table border=\"1\" class=\"dataframe\">\n",
       "  <thead>\n",
       "    <tr style=\"text-align: right;\">\n",
       "      <th></th>\n",
       "      <th>account_id</th>\n",
       "      <th>name</th>\n",
       "      <th>email</th>\n",
       "      <th>mobile</th>\n",
       "      <th>location</th>\n",
       "      <th>registration_date</th>\n",
       "    </tr>\n",
       "  </thead>\n",
       "  <tbody>\n",
       "    <tr>\n",
       "      <th>0</th>\n",
       "      <td>343224_810086CB0</td>\n",
       "      <td>Ian Cooper</td>\n",
       "      <td>lindsay78@example.org</td>\n",
       "      <td>(518)349-5931x0341</td>\n",
       "      <td>Markham - CA - America/Toronto</td>\n",
       "      <td>2025-01-19</td>\n",
       "    </tr>\n",
       "    <tr>\n",
       "      <th>1</th>\n",
       "      <td>313465_80B5360C0</td>\n",
       "      <td>Roy Martin</td>\n",
       "      <td>jason41@example.net</td>\n",
       "      <td>+1-228-732-7648x3503</td>\n",
       "      <td>Saint-Omer - FR - Europe/Paris</td>\n",
       "      <td>2025-01-20</td>\n",
       "    </tr>\n",
       "    <tr>\n",
       "      <th>2</th>\n",
       "      <td>117_80E296B70</td>\n",
       "      <td>Thomas Bradley</td>\n",
       "      <td>jason76@example.net</td>\n",
       "      <td>724.523.8849x696</td>\n",
       "      <td>el Camp de l'Arpa del Clot - ES - Europe/Madrid</td>\n",
       "      <td>2025-01-07</td>\n",
       "    </tr>\n",
       "    <tr>\n",
       "      <th>3</th>\n",
       "      <td>2439_810E3CA30</td>\n",
       "      <td>Peter Callahan Jr.</td>\n",
       "      <td>laurahenderson@example.org</td>\n",
       "      <td>(669)878-4801x8451</td>\n",
       "      <td>Eisen - KR - Asia/Seoul</td>\n",
       "      <td>2025-01-08</td>\n",
       "    </tr>\n",
       "    <tr>\n",
       "      <th>4</th>\n",
       "      <td>1024_800ECB1A0</td>\n",
       "      <td>Nathan Cortez</td>\n",
       "      <td>williamrodriguez@example.net</td>\n",
       "      <td>289-332-5288x0957</td>\n",
       "      <td>Agrigento - IT - Europe/Rome</td>\n",
       "      <td>2025-02-15</td>\n",
       "    </tr>\n",
       "  </tbody>\n",
       "</table>\n",
       "</div>"
      ],
      "text/plain": [
       "         account_id                name                         email  \\\n",
       "0  343224_810086CB0          Ian Cooper         lindsay78@example.org   \n",
       "1  313465_80B5360C0          Roy Martin           jason41@example.net   \n",
       "2     117_80E296B70      Thomas Bradley           jason76@example.net   \n",
       "3    2439_810E3CA30  Peter Callahan Jr.    laurahenderson@example.org   \n",
       "4    1024_800ECB1A0       Nathan Cortez  williamrodriguez@example.net   \n",
       "\n",
       "                 mobile                                         location  \\\n",
       "0    (518)349-5931x0341                   Markham - CA - America/Toronto   \n",
       "1  +1-228-732-7648x3503                   Saint-Omer - FR - Europe/Paris   \n",
       "2      724.523.8849x696  el Camp de l'Arpa del Clot - ES - Europe/Madrid   \n",
       "3    (669)878-4801x8451                          Eisen - KR - Asia/Seoul   \n",
       "4     289-332-5288x0957                     Agrigento - IT - Europe/Rome   \n",
       "\n",
       "  registration_date  \n",
       "0        2025-01-19  \n",
       "1        2025-01-20  \n",
       "2        2025-01-07  \n",
       "3        2025-01-08  \n",
       "4        2025-02-15  "
      ]
     },
     "execution_count": 11,
     "metadata": {},
     "output_type": "execute_result"
    }
   ],
   "source": [
    "df.head()"
   ]
  },
  {
   "cell_type": "code",
   "execution_count": 12,
   "metadata": {},
   "outputs": [],
   "source": [
    "df.to_csv('src/data/accounts_details.csv', index=False)"
   ]
  },
  {
   "cell_type": "code",
   "execution_count": null,
   "metadata": {},
   "outputs": [],
   "source": []
  }
 ],
 "metadata": {
  "kernelspec": {
   "display_name": "Python 3",
   "language": "python",
   "name": "python3"
  },
  "language_info": {
   "codemirror_mode": {
    "name": "ipython",
    "version": 3
   },
   "file_extension": ".py",
   "mimetype": "text/x-python",
   "name": "python",
   "nbconvert_exporter": "python",
   "pygments_lexer": "ipython3",
   "version": "3.12.5"
  }
 },
 "nbformat": 4,
 "nbformat_minor": 2
}
