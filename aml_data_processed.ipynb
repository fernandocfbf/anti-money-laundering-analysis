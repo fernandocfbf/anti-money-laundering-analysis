{
 "cells": [
  {
   "cell_type": "markdown",
   "metadata": {},
   "source": [
    "### Imports\n",
    "---"
   ]
  },
  {
   "cell_type": "code",
   "execution_count": 1,
   "metadata": {},
   "outputs": [],
   "source": [
    "import pandas as pd\n",
    "from faker import Faker\n",
    "import random\n",
    "import pandas as pd\n",
    "from tqdm import tqdm"
   ]
  },
  {
   "cell_type": "markdown",
   "metadata": {},
   "source": [
    "### Load data\n",
    "---"
   ]
  },
  {
   "cell_type": "code",
   "execution_count": null,
   "metadata": {},
   "outputs": [],
   "source": [
    "dataframe = pd.read_csv(\"src/data/HI-Small_Trans.csv\")"
   ]
  },
  {
   "cell_type": "code",
   "execution_count": null,
   "metadata": {},
   "outputs": [],
   "source": [
    "dataframe.head(2)"
   ]
  },
  {
   "cell_type": "code",
   "execution_count": null,
   "metadata": {},
   "outputs": [],
   "source": [
    "dataframe.shape"
   ]
  },
  {
   "cell_type": "markdown",
   "metadata": {},
   "source": [
    "### Transformations\n",
    "---"
   ]
  },
  {
   "cell_type": "code",
   "execution_count": null,
   "metadata": {},
   "outputs": [],
   "source": [
    "filtered_dataframe = dataframe[dataframe[\"Amount Paid\"] == dataframe[\"Amount Received\"]]"
   ]
  },
  {
   "cell_type": "code",
   "execution_count": null,
   "metadata": {},
   "outputs": [],
   "source": [
    "filtered_dataframe.columns = filtered_dataframe.columns.str.lower()\n",
    "filtered_dataframe.columns = filtered_dataframe.columns.str.replace(' ', \"_\")"
   ]
  },
  {
   "cell_type": "code",
   "execution_count": null,
   "metadata": {},
   "outputs": [],
   "source": [
    "filtered_dataframe[[\"from_bank\", \"to_bank\"]] = filtered_dataframe[[\"from_bank\", \"to_bank\"]].astype(str)"
   ]
  },
  {
   "cell_type": "code",
   "execution_count": null,
   "metadata": {},
   "outputs": [],
   "source": [
    "filtered_dataframe.head(2)"
   ]
  },
  {
   "cell_type": "code",
   "execution_count": null,
   "metadata": {},
   "outputs": [],
   "source": [
    "filtered_dataframe[\"sender\"] = filtered_dataframe[\"from_bank\"] + \"_\" + filtered_dataframe[\"account\"]\n",
    "filtered_dataframe[\"receiver\"] = filtered_dataframe[\"to_bank\"] + \"_\" + filtered_dataframe[\"account.1\"]"
   ]
  },
  {
   "cell_type": "code",
   "execution_count": null,
   "metadata": {},
   "outputs": [],
   "source": [
    "filtered_dataframe = filtered_dataframe[[\n",
    " \"timestamp\",\n",
    " \"sender\",\n",
    " \"receiver\",\n",
    " \"amount_received\",\n",
    " \"receiving_currency\",\n",
    " \"amount_paid\",\n",
    " \"payment_currency\",\n",
    " \"payment_format\",\n",
    " \"is_laundering\",\n",
    "]]"
   ]
  },
  {
   "cell_type": "code",
   "execution_count": null,
   "metadata": {},
   "outputs": [],
   "source": [
    "filtered_dataframe = filtered_dataframe.query(\"sender != receiver\")"
   ]
  },
  {
   "cell_type": "code",
   "execution_count": null,
   "metadata": {},
   "outputs": [],
   "source": [
    "filtered_dataframe.to_csv(\"src/data/full_transactions_data.csv\", index=False)"
   ]
  },
  {
   "cell_type": "code",
   "execution_count": null,
   "metadata": {},
   "outputs": [],
   "source": [
    "filtered_dataframe = filtered_dataframe.groupby([\"sender\", \"receiver\"], as_index=False).agg({\"amount_paid\":  \"sum\"})\n",
    "filtered_dataframe.columns = ['sender','receiver','sum']\n",
    "filtered_dataframe = filtered_dataframe.rename(columns={\"sum\": \"value\"})\n",
    "filtered_dataframe[\"title\"] = filtered_dataframe.apply(lambda df: f\"from: {df.sender}\\nto: {df.receiver}\\namount (BRL): {df.value}\", axis=1)"
   ]
  },
  {
   "cell_type": "code",
   "execution_count": null,
   "metadata": {},
   "outputs": [],
   "source": [
    "filtered_dataframe.to_csv(\"src/data/network_analysis_data.csv\", index=False)"
   ]
  },
  {
   "cell_type": "markdown",
   "metadata": {},
   "source": [
    "### Generate fake customer data\n",
    "---"
   ]
  },
  {
   "cell_type": "code",
   "execution_count": null,
   "metadata": {},
   "outputs": [],
   "source": [
    "all_clients = pd.read_csv(\"src/data/full_transactions_data.csv\")"
   ]
  },
  {
   "cell_type": "code",
   "execution_count": null,
   "metadata": {},
   "outputs": [],
   "source": [
    "all_clients = all_clients.groupby(by=\"sender\", as_index=False).timestamp.count().sort_values(\"timestamp\", ascending=False)"
   ]
  },
  {
   "cell_type": "code",
   "execution_count": null,
   "metadata": {},
   "outputs": [],
   "source": [
    "all_clients_id = set(all_clients[\"sender\"])"
   ]
  },
  {
   "cell_type": "code",
   "execution_count": null,
   "metadata": {},
   "outputs": [],
   "source": [
    "fake = Faker()\n",
    "Faker.seed(42)"
   ]
  },
  {
   "cell_type": "code",
   "execution_count": null,
   "metadata": {},
   "outputs": [],
   "source": [
    "data = []\n",
    "bar = tqdm(total=len(all_clients_id))\n",
    "for client_id in all_clients_id:\n",
    "    location = fake.location_on_land()\n",
    "    data.append({\n",
    "        \"account_id\": client_id,\n",
    "        \"name\": fake.name(),\n",
    "        \"email\": fake.email(),\n",
    "        \"location\": f\"{location[2]} - {location[3]} - {location[4]}\",\n",
    "        \"registration_date\": fake.date_this_year(),\n",
    "    })\n",
    "    bar.update(1)\n",
    "df = pd.DataFrame(data)"
   ]
  },
  {
   "cell_type": "code",
   "execution_count": null,
   "metadata": {},
   "outputs": [],
   "source": [
    "df.head()"
   ]
  },
  {
   "cell_type": "code",
   "execution_count": null,
   "metadata": {},
   "outputs": [],
   "source": [
    "df.to_csv('src/data/accounts_details.csv', index=False)"
   ]
  },
  {
   "cell_type": "code",
   "execution_count": 2,
   "metadata": {},
   "outputs": [],
   "source": [
    "df = pd.read_csv('src/data/accounts_details.csv')"
   ]
  },
  {
   "cell_type": "code",
   "execution_count": 3,
   "metadata": {},
   "outputs": [],
   "source": [
    "from src.utils.accounts import get_account_details"
   ]
  },
  {
   "cell_type": "code",
   "execution_count": 4,
   "metadata": {},
   "outputs": [
    {
     "data": {
      "text/plain": [
       "{'account_id': '38134_8036B5120',\n",
       " 'name': 'Patrick Sanchez',\n",
       " 'email': 'jillrhodes@example.net',\n",
       " 'location': 'Alipur - PK - Asia/Karachi',\n",
       " 'registration_date': '2025-01-05'}"
      ]
     },
     "execution_count": 4,
     "metadata": {},
     "output_type": "execute_result"
    }
   ],
   "source": [
    "get_account_details(df, \"38134_8036B5120\")"
   ]
  },
  {
   "cell_type": "code",
   "execution_count": null,
   "metadata": {},
   "outputs": [],
   "source": []
  }
 ],
 "metadata": {
  "kernelspec": {
   "display_name": "Python 3",
   "language": "python",
   "name": "python3"
  },
  "language_info": {
   "codemirror_mode": {
    "name": "ipython",
    "version": 3
   },
   "file_extension": ".py",
   "mimetype": "text/x-python",
   "name": "python",
   "nbconvert_exporter": "python",
   "pygments_lexer": "ipython3",
   "version": "3.12.5"
  }
 },
 "nbformat": 4,
 "nbformat_minor": 2
}
