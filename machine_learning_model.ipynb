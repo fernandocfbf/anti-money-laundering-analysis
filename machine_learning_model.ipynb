{
 "cells": [
  {
   "cell_type": "markdown",
   "metadata": {},
   "source": [
    "## Imports\n",
    "---"
   ]
  },
  {
   "cell_type": "code",
   "execution_count": 1,
   "metadata": {},
   "outputs": [
    {
     "name": "stderr",
     "output_type": "stream",
     "text": [
      "2025-02-26 20:58:48.263 WARNING streamlit.runtime.caching.cache_data_api: No runtime found, using MemoryCacheStorageManager\n",
      "2025-02-26 20:58:48.264 WARNING streamlit.runtime.caching.cache_data_api: No runtime found, using MemoryCacheStorageManager\n",
      "2025-02-26 20:58:48.265 WARNING streamlit.runtime.caching.cache_data_api: No runtime found, using MemoryCacheStorageManager\n"
     ]
    }
   ],
   "source": [
    "import pandas as pd\n",
    "pd.set_option('display.max_columns', None)\n",
    "\n",
    "import time\n",
    "import numpy as np\n",
    "from tqdm import tqdm\n",
    "\n",
    "import torch\n",
    "import torch.nn as nn\n",
    "from torch_geometric.data import Data\n",
    "from torch_geometric.nn import GATConv, Linear\n",
    "import torch_geometric.transforms as T\n",
    "from torch_geometric.loader import NeighborLoader\n",
    "import torch.nn.functional as F\n",
    "\n",
    "from sklearn.preprocessing import LabelEncoder, RobustScaler, MinMaxScaler\n",
    "from sklearn.utils.class_weight import compute_class_weight\n",
    "from sklearn.metrics import accuracy_score, precision_score, recall_score, f1_score, confusion_matrix, roc_auc_score, roc_curve, auc\n",
    "\n",
    "import seaborn as sns\n",
    "import matplotlib.pyplot as plt\n",
    "\n",
    "from src.utils.dataset import get_full_transactions_dataset "
   ]
  },
  {
   "cell_type": "code",
   "execution_count": 2,
   "metadata": {},
   "outputs": [
    {
     "name": "stdout",
     "output_type": "stream",
     "text": [
      "Using Torch version 2.5.1+cu124\n",
      "Is CUDA supported by this system? True\n",
      "CUDA version: 12.4\n",
      "Name of current CUDA device:NVIDIA GeForce RTX 2060\n"
     ]
    }
   ],
   "source": [
    "print(f\"Using Torch version {torch.__version__}\")\n",
    "print(f\"Is CUDA supported by this system? {torch.cuda.is_available()}\")\n",
    "print(f\"CUDA version: {torch.version.cuda}\") \n",
    "cuda_id = torch.cuda.current_device()\n",
    "print(f\"Name of current CUDA device:{torch.cuda.get_device_name(cuda_id)}\")"
   ]
  },
  {
   "cell_type": "markdown",
   "metadata": {},
   "source": [
    "## Data set load\n",
    "---"
   ]
  },
  {
   "cell_type": "code",
   "execution_count": 3,
   "metadata": {},
   "outputs": [
    {
     "name": "stderr",
     "output_type": "stream",
     "text": [
      "2025-02-26 20:58:48.286 WARNING streamlit.runtime.caching.cache_data_api: No runtime found, using MemoryCacheStorageManager\n",
      "2025-02-26 20:58:48.287 WARNING streamlit.runtime.scriptrunner_utils.script_run_context: Thread 'MainThread': missing ScriptRunContext! This warning can be ignored when running in bare mode.\n",
      "2025-02-26 20:58:48.699 \n",
      "  \u001b[33m\u001b[1mWarning:\u001b[0m to view this Streamlit app on a browser, run it with the following\n",
      "  command:\n",
      "\n",
      "    streamlit run C:\\Users\\ferna\\AppData\\Roaming\\Python\\Python312\\site-packages\\ipykernel_launcher.py [ARGUMENTS]\n",
      "2025-02-26 20:58:48.699 Thread 'MainThread': missing ScriptRunContext! This warning can be ignored when running in bare mode.\n",
      "2025-02-26 20:58:48.700 Thread 'MainThread': missing ScriptRunContext! This warning can be ignored when running in bare mode.\n",
      "2025-02-26 20:58:49.204 Thread 'Thread-5': missing ScriptRunContext! This warning can be ignored when running in bare mode.\n",
      "2025-02-26 20:58:49.216 Thread 'Thread-5': missing ScriptRunContext! This warning can be ignored when running in bare mode.\n",
      "2025-02-26 20:58:56.370 Thread 'MainThread': missing ScriptRunContext! This warning can be ignored when running in bare mode.\n",
      "2025-02-26 20:58:56.371 Thread 'MainThread': missing ScriptRunContext! This warning can be ignored when running in bare mode.\n"
     ]
    }
   ],
   "source": [
    "df = get_full_transactions_dataset()"
   ]
  },
  {
   "cell_type": "markdown",
   "metadata": {},
   "source": [
    "## Data preparation\n",
    "---"
   ]
  },
  {
   "cell_type": "markdown",
   "metadata": {},
   "source": [
    "### Handling imbalanced data"
   ]
  },
  {
   "cell_type": "code",
   "execution_count": 4,
   "metadata": {},
   "outputs": [
    {
     "data": {
      "text/html": [
       "<div>\n",
       "<style scoped>\n",
       "    .dataframe tbody tr th:only-of-type {\n",
       "        vertical-align: middle;\n",
       "    }\n",
       "\n",
       "    .dataframe tbody tr th {\n",
       "        vertical-align: top;\n",
       "    }\n",
       "\n",
       "    .dataframe thead th {\n",
       "        text-align: right;\n",
       "    }\n",
       "</style>\n",
       "<table border=\"1\" class=\"dataframe\">\n",
       "  <thead>\n",
       "    <tr style=\"text-align: right;\">\n",
       "      <th></th>\n",
       "      <th>timestamp</th>\n",
       "      <th>sender</th>\n",
       "      <th>receiver</th>\n",
       "      <th>amount_received</th>\n",
       "      <th>receiving_currency</th>\n",
       "      <th>amount_paid</th>\n",
       "      <th>payment_currency</th>\n",
       "      <th>payment_format</th>\n",
       "      <th>is_laundering</th>\n",
       "    </tr>\n",
       "  </thead>\n",
       "  <tbody>\n",
       "    <tr>\n",
       "      <th>0</th>\n",
       "      <td>2022/09/01 00:20</td>\n",
       "      <td>10_8000EBD30</td>\n",
       "      <td>10_8000EBD30</td>\n",
       "      <td>3697.34</td>\n",
       "      <td>US Dollar</td>\n",
       "      <td>3697.34</td>\n",
       "      <td>US Dollar</td>\n",
       "      <td>Reinvestment</td>\n",
       "      <td>0</td>\n",
       "    </tr>\n",
       "    <tr>\n",
       "      <th>1</th>\n",
       "      <td>2022/09/01 00:20</td>\n",
       "      <td>3208_8000F4580</td>\n",
       "      <td>1_8000F5340</td>\n",
       "      <td>0.01</td>\n",
       "      <td>US Dollar</td>\n",
       "      <td>0.01</td>\n",
       "      <td>US Dollar</td>\n",
       "      <td>Cheque</td>\n",
       "      <td>0</td>\n",
       "    </tr>\n",
       "    <tr>\n",
       "      <th>2</th>\n",
       "      <td>2022/09/01 00:00</td>\n",
       "      <td>3209_8000F4670</td>\n",
       "      <td>3209_8000F4670</td>\n",
       "      <td>14675.57</td>\n",
       "      <td>US Dollar</td>\n",
       "      <td>14675.57</td>\n",
       "      <td>US Dollar</td>\n",
       "      <td>Reinvestment</td>\n",
       "      <td>0</td>\n",
       "    </tr>\n",
       "    <tr>\n",
       "      <th>3</th>\n",
       "      <td>2022/09/01 00:02</td>\n",
       "      <td>12_8000F5030</td>\n",
       "      <td>12_8000F5030</td>\n",
       "      <td>2806.97</td>\n",
       "      <td>US Dollar</td>\n",
       "      <td>2806.97</td>\n",
       "      <td>US Dollar</td>\n",
       "      <td>Reinvestment</td>\n",
       "      <td>0</td>\n",
       "    </tr>\n",
       "    <tr>\n",
       "      <th>4</th>\n",
       "      <td>2022/09/01 00:06</td>\n",
       "      <td>10_8000F5200</td>\n",
       "      <td>10_8000F5200</td>\n",
       "      <td>36682.97</td>\n",
       "      <td>US Dollar</td>\n",
       "      <td>36682.97</td>\n",
       "      <td>US Dollar</td>\n",
       "      <td>Reinvestment</td>\n",
       "      <td>0</td>\n",
       "    </tr>\n",
       "  </tbody>\n",
       "</table>\n",
       "</div>"
      ],
      "text/plain": [
       "          timestamp          sender        receiver  amount_received  \\\n",
       "0  2022/09/01 00:20    10_8000EBD30    10_8000EBD30          3697.34   \n",
       "1  2022/09/01 00:20  3208_8000F4580     1_8000F5340             0.01   \n",
       "2  2022/09/01 00:00  3209_8000F4670  3209_8000F4670         14675.57   \n",
       "3  2022/09/01 00:02    12_8000F5030    12_8000F5030          2806.97   \n",
       "4  2022/09/01 00:06    10_8000F5200    10_8000F5200         36682.97   \n",
       "\n",
       "  receiving_currency  amount_paid payment_currency payment_format  \\\n",
       "0          US Dollar      3697.34        US Dollar   Reinvestment   \n",
       "1          US Dollar         0.01        US Dollar         Cheque   \n",
       "2          US Dollar     14675.57        US Dollar   Reinvestment   \n",
       "3          US Dollar      2806.97        US Dollar   Reinvestment   \n",
       "4          US Dollar     36682.97        US Dollar   Reinvestment   \n",
       "\n",
       "   is_laundering  \n",
       "0              0  \n",
       "1              0  \n",
       "2              0  \n",
       "3              0  \n",
       "4              0  "
      ]
     },
     "execution_count": 4,
     "metadata": {},
     "output_type": "execute_result"
    }
   ],
   "source": [
    "df.head()"
   ]
  },
  {
   "cell_type": "markdown",
   "metadata": {},
   "source": [
    "### Preprocessing"
   ]
  },
  {
   "cell_type": "code",
   "execution_count": 5,
   "metadata": {},
   "outputs": [],
   "source": [
    "label_encoder_columns = [\"receiving_currency\", \"payment_currency\", \"payment_format\"]\n",
    "label_encoder = LabelEncoder()\n",
    "for column in label_encoder_columns:\n",
    "    df[column] = label_encoder.fit_transform(df[column])"
   ]
  },
  {
   "cell_type": "code",
   "execution_count": 6,
   "metadata": {},
   "outputs": [],
   "source": [
    "df[\"timestamp\"] = pd.to_datetime(df[\"timestamp\"])\n",
    "df['timestamp'] = df['timestamp'].apply(lambda x: x.value)\n",
    "df['timestamp'] = (df['timestamp']-df['timestamp'].min())/(df['timestamp'].max()-df['timestamp'].min())"
   ]
  },
  {
   "cell_type": "code",
   "execution_count": 7,
   "metadata": {},
   "outputs": [],
   "source": [
    "df = df.sort_values(by=\"sender\")"
   ]
  },
  {
   "cell_type": "code",
   "execution_count": 8,
   "metadata": {},
   "outputs": [
    {
     "data": {
      "text/html": [
       "<div>\n",
       "<style scoped>\n",
       "    .dataframe tbody tr th:only-of-type {\n",
       "        vertical-align: middle;\n",
       "    }\n",
       "\n",
       "    .dataframe tbody tr th {\n",
       "        vertical-align: top;\n",
       "    }\n",
       "\n",
       "    .dataframe thead th {\n",
       "        text-align: right;\n",
       "    }\n",
       "</style>\n",
       "<table border=\"1\" class=\"dataframe\">\n",
       "  <thead>\n",
       "    <tr style=\"text-align: right;\">\n",
       "      <th></th>\n",
       "      <th>timestamp</th>\n",
       "      <th>sender</th>\n",
       "      <th>receiver</th>\n",
       "      <th>amount_received</th>\n",
       "      <th>receiving_currency</th>\n",
       "      <th>amount_paid</th>\n",
       "      <th>payment_currency</th>\n",
       "      <th>payment_format</th>\n",
       "      <th>is_laundering</th>\n",
       "    </tr>\n",
       "  </thead>\n",
       "  <tbody>\n",
       "    <tr>\n",
       "      <th>4278714</th>\n",
       "      <td>0.456320</td>\n",
       "      <td>10057_803A115E0</td>\n",
       "      <td>29467_803E020C0</td>\n",
       "      <td>787197.11</td>\n",
       "      <td>13</td>\n",
       "      <td>787197.11</td>\n",
       "      <td>13</td>\n",
       "      <td>3</td>\n",
       "      <td>0</td>\n",
       "    </tr>\n",
       "    <tr>\n",
       "      <th>2798190</th>\n",
       "      <td>0.285018</td>\n",
       "      <td>10057_803A115E0</td>\n",
       "      <td>29467_803E020C0</td>\n",
       "      <td>787197.11</td>\n",
       "      <td>13</td>\n",
       "      <td>787197.11</td>\n",
       "      <td>13</td>\n",
       "      <td>3</td>\n",
       "      <td>0</td>\n",
       "    </tr>\n",
       "    <tr>\n",
       "      <th>2798191</th>\n",
       "      <td>0.284233</td>\n",
       "      <td>10057_803A115E0</td>\n",
       "      <td>29467_803E020C0</td>\n",
       "      <td>681262.19</td>\n",
       "      <td>13</td>\n",
       "      <td>681262.19</td>\n",
       "      <td>13</td>\n",
       "      <td>4</td>\n",
       "      <td>0</td>\n",
       "    </tr>\n",
       "    <tr>\n",
       "      <th>3918769</th>\n",
       "      <td>0.417079</td>\n",
       "      <td>10057_803A115E0</td>\n",
       "      <td>29467_803E020C0</td>\n",
       "      <td>681262.19</td>\n",
       "      <td>13</td>\n",
       "      <td>681262.19</td>\n",
       "      <td>13</td>\n",
       "      <td>4</td>\n",
       "      <td>0</td>\n",
       "    </tr>\n",
       "    <tr>\n",
       "      <th>213094</th>\n",
       "      <td>0.000746</td>\n",
       "      <td>10057_803A115E0</td>\n",
       "      <td>10057_803A115E0</td>\n",
       "      <td>146954.27</td>\n",
       "      <td>13</td>\n",
       "      <td>146954.27</td>\n",
       "      <td>13</td>\n",
       "      <td>5</td>\n",
       "      <td>0</td>\n",
       "    </tr>\n",
       "  </tbody>\n",
       "</table>\n",
       "</div>"
      ],
      "text/plain": [
       "         timestamp           sender         receiver  amount_received  \\\n",
       "4278714   0.456320  10057_803A115E0  29467_803E020C0        787197.11   \n",
       "2798190   0.285018  10057_803A115E0  29467_803E020C0        787197.11   \n",
       "2798191   0.284233  10057_803A115E0  29467_803E020C0        681262.19   \n",
       "3918769   0.417079  10057_803A115E0  29467_803E020C0        681262.19   \n",
       "213094    0.000746  10057_803A115E0  10057_803A115E0        146954.27   \n",
       "\n",
       "         receiving_currency  amount_paid  payment_currency  payment_format  \\\n",
       "4278714                  13    787197.11                13               3   \n",
       "2798190                  13    787197.11                13               3   \n",
       "2798191                  13    681262.19                13               4   \n",
       "3918769                  13    681262.19                13               4   \n",
       "213094                   13    146954.27                13               5   \n",
       "\n",
       "         is_laundering  \n",
       "4278714              0  \n",
       "2798190              0  \n",
       "2798191              0  \n",
       "3918769              0  \n",
       "213094               0  "
      ]
     },
     "execution_count": 8,
     "metadata": {},
     "output_type": "execute_result"
    }
   ],
   "source": [
    "df.head()"
   ]
  },
  {
   "cell_type": "code",
   "execution_count": 9,
   "metadata": {},
   "outputs": [],
   "source": [
    "scaler = MinMaxScaler()\n",
    "df[['amount_received', 'amount_paid']] = scaler.fit_transform(df[['amount_received', 'amount_paid']])"
   ]
  },
  {
   "cell_type": "code",
   "execution_count": 10,
   "metadata": {},
   "outputs": [
    {
     "data": {
      "text/html": [
       "<div>\n",
       "<style scoped>\n",
       "    .dataframe tbody tr th:only-of-type {\n",
       "        vertical-align: middle;\n",
       "    }\n",
       "\n",
       "    .dataframe tbody tr th {\n",
       "        vertical-align: top;\n",
       "    }\n",
       "\n",
       "    .dataframe thead th {\n",
       "        text-align: right;\n",
       "    }\n",
       "</style>\n",
       "<table border=\"1\" class=\"dataframe\">\n",
       "  <thead>\n",
       "    <tr style=\"text-align: right;\">\n",
       "      <th></th>\n",
       "      <th>timestamp</th>\n",
       "      <th>sender</th>\n",
       "      <th>receiver</th>\n",
       "      <th>amount_received</th>\n",
       "      <th>receiving_currency</th>\n",
       "      <th>amount_paid</th>\n",
       "      <th>payment_currency</th>\n",
       "      <th>payment_format</th>\n",
       "      <th>is_laundering</th>\n",
       "    </tr>\n",
       "  </thead>\n",
       "  <tbody>\n",
       "    <tr>\n",
       "      <th>4278714</th>\n",
       "      <td>0.456320</td>\n",
       "      <td>10057_803A115E0</td>\n",
       "      <td>29467_803E020C0</td>\n",
       "      <td>7.523610e-07</td>\n",
       "      <td>13</td>\n",
       "      <td>7.523610e-07</td>\n",
       "      <td>13</td>\n",
       "      <td>3</td>\n",
       "      <td>0</td>\n",
       "    </tr>\n",
       "    <tr>\n",
       "      <th>2798190</th>\n",
       "      <td>0.285018</td>\n",
       "      <td>10057_803A115E0</td>\n",
       "      <td>29467_803E020C0</td>\n",
       "      <td>7.523610e-07</td>\n",
       "      <td>13</td>\n",
       "      <td>7.523610e-07</td>\n",
       "      <td>13</td>\n",
       "      <td>3</td>\n",
       "      <td>0</td>\n",
       "    </tr>\n",
       "    <tr>\n",
       "      <th>2798191</th>\n",
       "      <td>0.284233</td>\n",
       "      <td>10057_803A115E0</td>\n",
       "      <td>29467_803E020C0</td>\n",
       "      <td>6.511141e-07</td>\n",
       "      <td>13</td>\n",
       "      <td>6.511141e-07</td>\n",
       "      <td>13</td>\n",
       "      <td>4</td>\n",
       "      <td>0</td>\n",
       "    </tr>\n",
       "    <tr>\n",
       "      <th>3918769</th>\n",
       "      <td>0.417079</td>\n",
       "      <td>10057_803A115E0</td>\n",
       "      <td>29467_803E020C0</td>\n",
       "      <td>6.511141e-07</td>\n",
       "      <td>13</td>\n",
       "      <td>6.511141e-07</td>\n",
       "      <td>13</td>\n",
       "      <td>4</td>\n",
       "      <td>0</td>\n",
       "    </tr>\n",
       "    <tr>\n",
       "      <th>213094</th>\n",
       "      <td>0.000746</td>\n",
       "      <td>10057_803A115E0</td>\n",
       "      <td>10057_803A115E0</td>\n",
       "      <td>1.404511e-07</td>\n",
       "      <td>13</td>\n",
       "      <td>1.404511e-07</td>\n",
       "      <td>13</td>\n",
       "      <td>5</td>\n",
       "      <td>0</td>\n",
       "    </tr>\n",
       "  </tbody>\n",
       "</table>\n",
       "</div>"
      ],
      "text/plain": [
       "         timestamp           sender         receiver  amount_received  \\\n",
       "4278714   0.456320  10057_803A115E0  29467_803E020C0     7.523610e-07   \n",
       "2798190   0.285018  10057_803A115E0  29467_803E020C0     7.523610e-07   \n",
       "2798191   0.284233  10057_803A115E0  29467_803E020C0     6.511141e-07   \n",
       "3918769   0.417079  10057_803A115E0  29467_803E020C0     6.511141e-07   \n",
       "213094    0.000746  10057_803A115E0  10057_803A115E0     1.404511e-07   \n",
       "\n",
       "         receiving_currency   amount_paid  payment_currency  payment_format  \\\n",
       "4278714                  13  7.523610e-07                13               3   \n",
       "2798190                  13  7.523610e-07                13               3   \n",
       "2798191                  13  6.511141e-07                13               4   \n",
       "3918769                  13  6.511141e-07                13               4   \n",
       "213094                   13  1.404511e-07                13               5   \n",
       "\n",
       "         is_laundering  \n",
       "4278714              0  \n",
       "2798190              0  \n",
       "2798191              0  \n",
       "3918769              0  \n",
       "213094               0  "
      ]
     },
     "execution_count": 10,
     "metadata": {},
     "output_type": "execute_result"
    }
   ],
   "source": [
    "df.head()"
   ]
  },
  {
   "cell_type": "markdown",
   "metadata": {},
   "source": [
    "### Node features"
   ]
  },
  {
   "cell_type": "code",
   "execution_count": 11,
   "metadata": {},
   "outputs": [],
   "source": [
    "all_account_ids = set(df['sender']).union(set(df['receiver']))\n",
    "nodes_df = pd.DataFrame({'account': list(all_account_ids)})\n",
    "nodes_df = nodes_df.sort_values(by=\"account\").reset_index(drop=True)\n",
    "laundering_df = df[df[\"is_laundering\"] == 1]\n",
    "laundering_accounts = set(laundering_df['sender']).union(set(laundering_df['receiver']))\n",
    "nodes_df[\"is_laundering\"] = nodes_df.account.apply(lambda account_id: 1 if account_id in laundering_accounts else 0)\n",
    "nodes_df = nodes_df.sort_values(by=\"account\")"
   ]
  },
  {
   "cell_type": "code",
   "execution_count": 12,
   "metadata": {},
   "outputs": [],
   "source": [
    "nodes_df[\"transactions_sent\"] = nodes_df['account'].map(df.groupby('sender').size()).fillna(0)\n",
    "nodes_df['transactions_received'] = nodes_df['account'].map(df.groupby('receiver').size()).fillna(0)\n",
    "nodes_df['unique_currencies_sent'] = nodes_df['account'].map(df.groupby('sender')['payment_currency'].nunique()).fillna(0)\n",
    "nodes_df['unique_currencies_received'] = nodes_df['account'].map(df.groupby('receiver')['payment_currency'].nunique()).fillna(0)"
   ]
  },
  {
   "cell_type": "code",
   "execution_count": 13,
   "metadata": {},
   "outputs": [],
   "source": [
    "currencies = set(set(df['payment_currency']).union(set(df['receiving_currency'])))\n",
    "for currency in currencies:\n",
    "    nodes_df[f'average_paid_{currency}'] = nodes_df['account'].map(\n",
    "        df[df['payment_currency'] == currency].groupby('sender')['amount_paid'].sum()\n",
    "    ).fillna(0)\n",
    "    \n",
    "    nodes_df[f'total_received_{currency}'] = nodes_df['account'].map(\n",
    "        df[df['receiving_currency'] == currency].groupby('receiver')['amount_received'].sum()\n",
    "    ).fillna(0)"
   ]
  },
  {
   "cell_type": "code",
   "execution_count": 14,
   "metadata": {},
   "outputs": [
    {
     "data": {
      "text/html": [
       "<div>\n",
       "<style scoped>\n",
       "    .dataframe tbody tr th:only-of-type {\n",
       "        vertical-align: middle;\n",
       "    }\n",
       "\n",
       "    .dataframe tbody tr th {\n",
       "        vertical-align: top;\n",
       "    }\n",
       "\n",
       "    .dataframe thead th {\n",
       "        text-align: right;\n",
       "    }\n",
       "</style>\n",
       "<table border=\"1\" class=\"dataframe\">\n",
       "  <thead>\n",
       "    <tr style=\"text-align: right;\">\n",
       "      <th></th>\n",
       "      <th>account</th>\n",
       "      <th>is_laundering</th>\n",
       "      <th>transactions_sent</th>\n",
       "      <th>transactions_received</th>\n",
       "      <th>unique_currencies_sent</th>\n",
       "      <th>unique_currencies_received</th>\n",
       "      <th>average_paid_0</th>\n",
       "      <th>total_received_0</th>\n",
       "      <th>average_paid_1</th>\n",
       "      <th>total_received_1</th>\n",
       "      <th>average_paid_2</th>\n",
       "      <th>total_received_2</th>\n",
       "      <th>average_paid_3</th>\n",
       "      <th>total_received_3</th>\n",
       "      <th>average_paid_4</th>\n",
       "      <th>total_received_4</th>\n",
       "      <th>average_paid_5</th>\n",
       "      <th>total_received_5</th>\n",
       "      <th>average_paid_6</th>\n",
       "      <th>total_received_6</th>\n",
       "      <th>average_paid_7</th>\n",
       "      <th>total_received_7</th>\n",
       "      <th>average_paid_8</th>\n",
       "      <th>total_received_8</th>\n",
       "      <th>average_paid_9</th>\n",
       "      <th>total_received_9</th>\n",
       "      <th>average_paid_10</th>\n",
       "      <th>total_received_10</th>\n",
       "      <th>average_paid_11</th>\n",
       "      <th>total_received_11</th>\n",
       "      <th>average_paid_12</th>\n",
       "      <th>total_received_12</th>\n",
       "      <th>average_paid_13</th>\n",
       "      <th>total_received_13</th>\n",
       "      <th>average_paid_14</th>\n",
       "      <th>total_received_14</th>\n",
       "    </tr>\n",
       "  </thead>\n",
       "  <tbody>\n",
       "    <tr>\n",
       "      <th>0</th>\n",
       "      <td>10057_801FB1090</td>\n",
       "      <td>0</td>\n",
       "      <td>0.0</td>\n",
       "      <td>1.0</td>\n",
       "      <td>0.0</td>\n",
       "      <td>1.0</td>\n",
       "      <td>0.0</td>\n",
       "      <td>0.0</td>\n",
       "      <td>0.0</td>\n",
       "      <td>0.0</td>\n",
       "      <td>0.0</td>\n",
       "      <td>0.0</td>\n",
       "      <td>0.0</td>\n",
       "      <td>0.0</td>\n",
       "      <td>0.0</td>\n",
       "      <td>0.0</td>\n",
       "      <td>0.0</td>\n",
       "      <td>0.0</td>\n",
       "      <td>0.0</td>\n",
       "      <td>0.0</td>\n",
       "      <td>0.0</td>\n",
       "      <td>0.0</td>\n",
       "      <td>0.0</td>\n",
       "      <td>0.0</td>\n",
       "      <td>0.0</td>\n",
       "      <td>0.0</td>\n",
       "      <td>0.0</td>\n",
       "      <td>0.0</td>\n",
       "      <td>0.0</td>\n",
       "      <td>0.0</td>\n",
       "      <td>0.0</td>\n",
       "      <td>0.0</td>\n",
       "      <td>0.000000</td>\n",
       "      <td>9.556511e-15</td>\n",
       "      <td>0.0</td>\n",
       "      <td>0.0</td>\n",
       "    </tr>\n",
       "    <tr>\n",
       "      <th>1</th>\n",
       "      <td>10057_803A115E0</td>\n",
       "      <td>0</td>\n",
       "      <td>15.0</td>\n",
       "      <td>1.0</td>\n",
       "      <td>1.0</td>\n",
       "      <td>1.0</td>\n",
       "      <td>0.0</td>\n",
       "      <td>0.0</td>\n",
       "      <td>0.0</td>\n",
       "      <td>0.0</td>\n",
       "      <td>0.0</td>\n",
       "      <td>0.0</td>\n",
       "      <td>0.0</td>\n",
       "      <td>0.0</td>\n",
       "      <td>0.0</td>\n",
       "      <td>0.0</td>\n",
       "      <td>0.0</td>\n",
       "      <td>0.0</td>\n",
       "      <td>0.0</td>\n",
       "      <td>0.0</td>\n",
       "      <td>0.0</td>\n",
       "      <td>0.0</td>\n",
       "      <td>0.0</td>\n",
       "      <td>0.0</td>\n",
       "      <td>0.0</td>\n",
       "      <td>0.0</td>\n",
       "      <td>0.0</td>\n",
       "      <td>0.0</td>\n",
       "      <td>0.0</td>\n",
       "      <td>0.0</td>\n",
       "      <td>0.0</td>\n",
       "      <td>0.0</td>\n",
       "      <td>0.000010</td>\n",
       "      <td>1.404511e-07</td>\n",
       "      <td>0.0</td>\n",
       "      <td>0.0</td>\n",
       "    </tr>\n",
       "    <tr>\n",
       "      <th>2</th>\n",
       "      <td>10057_803AA8E90</td>\n",
       "      <td>0</td>\n",
       "      <td>44.0</td>\n",
       "      <td>24.0</td>\n",
       "      <td>1.0</td>\n",
       "      <td>1.0</td>\n",
       "      <td>0.0</td>\n",
       "      <td>0.0</td>\n",
       "      <td>0.0</td>\n",
       "      <td>0.0</td>\n",
       "      <td>0.0</td>\n",
       "      <td>0.0</td>\n",
       "      <td>0.0</td>\n",
       "      <td>0.0</td>\n",
       "      <td>0.0</td>\n",
       "      <td>0.0</td>\n",
       "      <td>0.0</td>\n",
       "      <td>0.0</td>\n",
       "      <td>0.0</td>\n",
       "      <td>0.0</td>\n",
       "      <td>0.0</td>\n",
       "      <td>0.0</td>\n",
       "      <td>0.0</td>\n",
       "      <td>0.0</td>\n",
       "      <td>0.0</td>\n",
       "      <td>0.0</td>\n",
       "      <td>0.0</td>\n",
       "      <td>0.0</td>\n",
       "      <td>0.0</td>\n",
       "      <td>0.0</td>\n",
       "      <td>0.0</td>\n",
       "      <td>0.0</td>\n",
       "      <td>0.000139</td>\n",
       "      <td>3.648158e-05</td>\n",
       "      <td>0.0</td>\n",
       "      <td>0.0</td>\n",
       "    </tr>\n",
       "    <tr>\n",
       "      <th>3</th>\n",
       "      <td>10057_803AAB430</td>\n",
       "      <td>0</td>\n",
       "      <td>4.0</td>\n",
       "      <td>16.0</td>\n",
       "      <td>1.0</td>\n",
       "      <td>1.0</td>\n",
       "      <td>0.0</td>\n",
       "      <td>0.0</td>\n",
       "      <td>0.0</td>\n",
       "      <td>0.0</td>\n",
       "      <td>0.0</td>\n",
       "      <td>0.0</td>\n",
       "      <td>0.0</td>\n",
       "      <td>0.0</td>\n",
       "      <td>0.0</td>\n",
       "      <td>0.0</td>\n",
       "      <td>0.0</td>\n",
       "      <td>0.0</td>\n",
       "      <td>0.0</td>\n",
       "      <td>0.0</td>\n",
       "      <td>0.0</td>\n",
       "      <td>0.0</td>\n",
       "      <td>0.0</td>\n",
       "      <td>0.0</td>\n",
       "      <td>0.0</td>\n",
       "      <td>0.0</td>\n",
       "      <td>0.0</td>\n",
       "      <td>0.0</td>\n",
       "      <td>0.0</td>\n",
       "      <td>0.0</td>\n",
       "      <td>0.0</td>\n",
       "      <td>0.0</td>\n",
       "      <td>0.000015</td>\n",
       "      <td>1.210359e-06</td>\n",
       "      <td>0.0</td>\n",
       "      <td>0.0</td>\n",
       "    </tr>\n",
       "    <tr>\n",
       "      <th>4</th>\n",
       "      <td>10057_803AACE20</td>\n",
       "      <td>0</td>\n",
       "      <td>65.0</td>\n",
       "      <td>18.0</td>\n",
       "      <td>1.0</td>\n",
       "      <td>1.0</td>\n",
       "      <td>0.0</td>\n",
       "      <td>0.0</td>\n",
       "      <td>0.0</td>\n",
       "      <td>0.0</td>\n",
       "      <td>0.0</td>\n",
       "      <td>0.0</td>\n",
       "      <td>0.0</td>\n",
       "      <td>0.0</td>\n",
       "      <td>0.0</td>\n",
       "      <td>0.0</td>\n",
       "      <td>0.0</td>\n",
       "      <td>0.0</td>\n",
       "      <td>0.0</td>\n",
       "      <td>0.0</td>\n",
       "      <td>0.0</td>\n",
       "      <td>0.0</td>\n",
       "      <td>0.0</td>\n",
       "      <td>0.0</td>\n",
       "      <td>0.0</td>\n",
       "      <td>0.0</td>\n",
       "      <td>0.0</td>\n",
       "      <td>0.0</td>\n",
       "      <td>0.0</td>\n",
       "      <td>0.0</td>\n",
       "      <td>0.0</td>\n",
       "      <td>0.0</td>\n",
       "      <td>0.000432</td>\n",
       "      <td>5.226779e-05</td>\n",
       "      <td>0.0</td>\n",
       "      <td>0.0</td>\n",
       "    </tr>\n",
       "  </tbody>\n",
       "</table>\n",
       "</div>"
      ],
      "text/plain": [
       "           account  is_laundering  transactions_sent  transactions_received  \\\n",
       "0  10057_801FB1090              0                0.0                    1.0   \n",
       "1  10057_803A115E0              0               15.0                    1.0   \n",
       "2  10057_803AA8E90              0               44.0                   24.0   \n",
       "3  10057_803AAB430              0                4.0                   16.0   \n",
       "4  10057_803AACE20              0               65.0                   18.0   \n",
       "\n",
       "   unique_currencies_sent  unique_currencies_received  average_paid_0  \\\n",
       "0                     0.0                         1.0             0.0   \n",
       "1                     1.0                         1.0             0.0   \n",
       "2                     1.0                         1.0             0.0   \n",
       "3                     1.0                         1.0             0.0   \n",
       "4                     1.0                         1.0             0.0   \n",
       "\n",
       "   total_received_0  average_paid_1  total_received_1  average_paid_2  \\\n",
       "0               0.0             0.0               0.0             0.0   \n",
       "1               0.0             0.0               0.0             0.0   \n",
       "2               0.0             0.0               0.0             0.0   \n",
       "3               0.0             0.0               0.0             0.0   \n",
       "4               0.0             0.0               0.0             0.0   \n",
       "\n",
       "   total_received_2  average_paid_3  total_received_3  average_paid_4  \\\n",
       "0               0.0             0.0               0.0             0.0   \n",
       "1               0.0             0.0               0.0             0.0   \n",
       "2               0.0             0.0               0.0             0.0   \n",
       "3               0.0             0.0               0.0             0.0   \n",
       "4               0.0             0.0               0.0             0.0   \n",
       "\n",
       "   total_received_4  average_paid_5  total_received_5  average_paid_6  \\\n",
       "0               0.0             0.0               0.0             0.0   \n",
       "1               0.0             0.0               0.0             0.0   \n",
       "2               0.0             0.0               0.0             0.0   \n",
       "3               0.0             0.0               0.0             0.0   \n",
       "4               0.0             0.0               0.0             0.0   \n",
       "\n",
       "   total_received_6  average_paid_7  total_received_7  average_paid_8  \\\n",
       "0               0.0             0.0               0.0             0.0   \n",
       "1               0.0             0.0               0.0             0.0   \n",
       "2               0.0             0.0               0.0             0.0   \n",
       "3               0.0             0.0               0.0             0.0   \n",
       "4               0.0             0.0               0.0             0.0   \n",
       "\n",
       "   total_received_8  average_paid_9  total_received_9  average_paid_10  \\\n",
       "0               0.0             0.0               0.0              0.0   \n",
       "1               0.0             0.0               0.0              0.0   \n",
       "2               0.0             0.0               0.0              0.0   \n",
       "3               0.0             0.0               0.0              0.0   \n",
       "4               0.0             0.0               0.0              0.0   \n",
       "\n",
       "   total_received_10  average_paid_11  total_received_11  average_paid_12  \\\n",
       "0                0.0              0.0                0.0              0.0   \n",
       "1                0.0              0.0                0.0              0.0   \n",
       "2                0.0              0.0                0.0              0.0   \n",
       "3                0.0              0.0                0.0              0.0   \n",
       "4                0.0              0.0                0.0              0.0   \n",
       "\n",
       "   total_received_12  average_paid_13  total_received_13  average_paid_14  \\\n",
       "0                0.0         0.000000       9.556511e-15              0.0   \n",
       "1                0.0         0.000010       1.404511e-07              0.0   \n",
       "2                0.0         0.000139       3.648158e-05              0.0   \n",
       "3                0.0         0.000015       1.210359e-06              0.0   \n",
       "4                0.0         0.000432       5.226779e-05              0.0   \n",
       "\n",
       "   total_received_14  \n",
       "0                0.0  \n",
       "1                0.0  \n",
       "2                0.0  \n",
       "3                0.0  \n",
       "4                0.0  "
      ]
     },
     "execution_count": 14,
     "metadata": {},
     "output_type": "execute_result"
    }
   ],
   "source": [
    "nodes_df.head()"
   ]
  },
  {
   "cell_type": "code",
   "execution_count": 15,
   "metadata": {},
   "outputs": [],
   "source": [
    "node_labels = torch.from_numpy(nodes_df[\"is_laundering\"].values).to(torch.float)\n",
    "nodes_df = nodes_df.drop([\"account\", \"is_laundering\"], axis=1)\n",
    "node_features = torch.from_numpy(nodes_df.values).to(torch.float)"
   ]
  },
  {
   "cell_type": "markdown",
   "metadata": {},
   "source": [
    "### Edge features"
   ]
  },
  {
   "cell_type": "code",
   "execution_count": 16,
   "metadata": {},
   "outputs": [],
   "source": [
    "account_to_index = {acc: idx for idx, acc in enumerate(all_account_ids)}"
   ]
  },
  {
   "cell_type": "code",
   "execution_count": 17,
   "metadata": {},
   "outputs": [],
   "source": [
    "edges_df = df.copy()"
   ]
  },
  {
   "cell_type": "code",
   "execution_count": 18,
   "metadata": {},
   "outputs": [],
   "source": [
    "edges_df['sender'] = edges_df['sender'].map(account_to_index)\n",
    "edges_df['receiver'] = edges_df['receiver'].map(account_to_index)"
   ]
  },
  {
   "cell_type": "code",
   "execution_count": 19,
   "metadata": {},
   "outputs": [
    {
     "data": {
      "text/html": [
       "<div>\n",
       "<style scoped>\n",
       "    .dataframe tbody tr th:only-of-type {\n",
       "        vertical-align: middle;\n",
       "    }\n",
       "\n",
       "    .dataframe tbody tr th {\n",
       "        vertical-align: top;\n",
       "    }\n",
       "\n",
       "    .dataframe thead th {\n",
       "        text-align: right;\n",
       "    }\n",
       "</style>\n",
       "<table border=\"1\" class=\"dataframe\">\n",
       "  <thead>\n",
       "    <tr style=\"text-align: right;\">\n",
       "      <th></th>\n",
       "      <th>timestamp</th>\n",
       "      <th>sender</th>\n",
       "      <th>receiver</th>\n",
       "      <th>amount_received</th>\n",
       "      <th>receiving_currency</th>\n",
       "      <th>amount_paid</th>\n",
       "      <th>payment_currency</th>\n",
       "      <th>payment_format</th>\n",
       "      <th>is_laundering</th>\n",
       "    </tr>\n",
       "  </thead>\n",
       "  <tbody>\n",
       "    <tr>\n",
       "      <th>4278714</th>\n",
       "      <td>0.456320</td>\n",
       "      <td>69899</td>\n",
       "      <td>14069</td>\n",
       "      <td>7.523610e-07</td>\n",
       "      <td>13</td>\n",
       "      <td>7.523610e-07</td>\n",
       "      <td>13</td>\n",
       "      <td>3</td>\n",
       "      <td>0</td>\n",
       "    </tr>\n",
       "    <tr>\n",
       "      <th>2798190</th>\n",
       "      <td>0.285018</td>\n",
       "      <td>69899</td>\n",
       "      <td>14069</td>\n",
       "      <td>7.523610e-07</td>\n",
       "      <td>13</td>\n",
       "      <td>7.523610e-07</td>\n",
       "      <td>13</td>\n",
       "      <td>3</td>\n",
       "      <td>0</td>\n",
       "    </tr>\n",
       "    <tr>\n",
       "      <th>2798191</th>\n",
       "      <td>0.284233</td>\n",
       "      <td>69899</td>\n",
       "      <td>14069</td>\n",
       "      <td>6.511141e-07</td>\n",
       "      <td>13</td>\n",
       "      <td>6.511141e-07</td>\n",
       "      <td>13</td>\n",
       "      <td>4</td>\n",
       "      <td>0</td>\n",
       "    </tr>\n",
       "    <tr>\n",
       "      <th>3918769</th>\n",
       "      <td>0.417079</td>\n",
       "      <td>69899</td>\n",
       "      <td>14069</td>\n",
       "      <td>6.511141e-07</td>\n",
       "      <td>13</td>\n",
       "      <td>6.511141e-07</td>\n",
       "      <td>13</td>\n",
       "      <td>4</td>\n",
       "      <td>0</td>\n",
       "    </tr>\n",
       "    <tr>\n",
       "      <th>213094</th>\n",
       "      <td>0.000746</td>\n",
       "      <td>69899</td>\n",
       "      <td>69899</td>\n",
       "      <td>1.404511e-07</td>\n",
       "      <td>13</td>\n",
       "      <td>1.404511e-07</td>\n",
       "      <td>13</td>\n",
       "      <td>5</td>\n",
       "      <td>0</td>\n",
       "    </tr>\n",
       "  </tbody>\n",
       "</table>\n",
       "</div>"
      ],
      "text/plain": [
       "         timestamp  sender  receiver  amount_received  receiving_currency  \\\n",
       "4278714   0.456320   69899     14069     7.523610e-07                  13   \n",
       "2798190   0.285018   69899     14069     7.523610e-07                  13   \n",
       "2798191   0.284233   69899     14069     6.511141e-07                  13   \n",
       "3918769   0.417079   69899     14069     6.511141e-07                  13   \n",
       "213094    0.000746   69899     69899     1.404511e-07                  13   \n",
       "\n",
       "          amount_paid  payment_currency  payment_format  is_laundering  \n",
       "4278714  7.523610e-07                13               3              0  \n",
       "2798190  7.523610e-07                13               3              0  \n",
       "2798191  6.511141e-07                13               4              0  \n",
       "3918769  6.511141e-07                13               4              0  \n",
       "213094   1.404511e-07                13               5              0  "
      ]
     },
     "execution_count": 19,
     "metadata": {},
     "output_type": "execute_result"
    }
   ],
   "source": [
    "edges_df.head()"
   ]
  },
  {
   "cell_type": "code",
   "execution_count": 20,
   "metadata": {},
   "outputs": [],
   "source": [
    "edge_index = torch.stack([torch.from_numpy(edges_df['sender'].values), torch.from_numpy(edges_df['receiver'].values)], dim=0)\n",
    "edge_attr = torch.from_numpy(edges_df.drop(columns=[\"sender\", \"receiver\", \"is_laundering\"]).values).to(torch.float)"
   ]
  },
  {
   "cell_type": "markdown",
   "metadata": {},
   "source": [
    "### Graph data"
   ]
  },
  {
   "cell_type": "code",
   "execution_count": 21,
   "metadata": {},
   "outputs": [],
   "source": [
    "graph_data = Data(x=node_features, edge_index=edge_index, edge_attr=edge_attr, y=node_labels)"
   ]
  },
  {
   "cell_type": "code",
   "execution_count": 22,
   "metadata": {},
   "outputs": [
    {
     "data": {
      "text/plain": [
       "Data(x=[515088, 34], edge_index=[2, 5078345], edge_attr=[5078345, 6], y=[515088])"
      ]
     },
     "execution_count": 22,
     "metadata": {},
     "output_type": "execute_result"
    }
   ],
   "source": [
    "graph_data"
   ]
  },
  {
   "cell_type": "markdown",
   "metadata": {},
   "source": [
    "## Training\n",
    "---"
   ]
  },
  {
   "cell_type": "markdown",
   "metadata": {},
   "source": [
    "### Model definition"
   ]
  },
  {
   "cell_type": "code",
   "execution_count": 23,
   "metadata": {},
   "outputs": [],
   "source": [
    "class GATModel(torch.nn.Module):\n",
    "    def __init__(self, in_feats, hidden_dim, out_feats, heads):\n",
    "        super().__init__()\n",
    "        self.conv1 = GATConv(in_feats, hidden_dim, heads, dropout=0.6)\n",
    "        self.conv2 = GATConv(hidden_dim * heads, int(hidden_dim/4), heads=1, concat=False, dropout=0.6)\n",
    "        self.lin = Linear(int(hidden_dim/4), out_feats)\n",
    "        self.sigmoid = nn.Sigmoid()\n",
    "\n",
    "    def forward(self, x, edge_index, edge_attr):\n",
    "        x = F.dropout(x, p=0.6, training=self.training)\n",
    "        x = F.elu(self.conv1(x, edge_index, edge_attr))\n",
    "        x = F.dropout(x, p=0.6, training=self.training)\n",
    "        x = F.elu(self.conv2(x, edge_index, edge_attr))\n",
    "        x = self.lin(x)\n",
    "        x = self.sigmoid(x)\n",
    "        \n",
    "        return x"
   ]
  },
  {
   "cell_type": "markdown",
   "metadata": {},
   "source": [
    "### Train and test split"
   ]
  },
  {
   "cell_type": "code",
   "execution_count": 24,
   "metadata": {},
   "outputs": [],
   "source": [
    "train_test_split = T.RandomNodeSplit(split='train_rest', num_val=0.1, num_test=0)"
   ]
  },
  {
   "cell_type": "code",
   "execution_count": 25,
   "metadata": {},
   "outputs": [],
   "source": [
    "graph_data = train_test_split(graph_data)"
   ]
  },
  {
   "cell_type": "code",
   "execution_count": 26,
   "metadata": {},
   "outputs": [],
   "source": [
    "batch_size = 2048\n",
    "num_neighbors = [30] * 2\n",
    "train_loader = NeighborLoader(\n",
    "    graph_data,\n",
    "    num_neighbors=num_neighbors,\n",
    "    batch_size=batch_size,\n",
    "    input_nodes=graph_data.train_mask,\n",
    ")\n",
    "\n",
    "test_loader = NeighborLoader(\n",
    "    graph_data,\n",
    "    num_neighbors=num_neighbors,\n",
    "    batch_size=batch_size,\n",
    "    input_nodes=graph_data.val_mask,\n",
    ")"
   ]
  },
  {
   "cell_type": "markdown",
   "metadata": {},
   "source": [
    "### Train"
   ]
  },
  {
   "cell_type": "code",
   "execution_count": 27,
   "metadata": {},
   "outputs": [],
   "source": [
    "device = torch.device('cuda' if torch.cuda.is_available() else 'cpu')\n",
    "model = GATModel(in_feats=graph_data.num_features, hidden_dim=16, out_feats=1, heads=8).to(device)"
   ]
  },
  {
   "cell_type": "code",
   "execution_count": 28,
   "metadata": {},
   "outputs": [],
   "source": [
    "optimizer = torch.optim.Adam(model.parameters(), lr=0.0001)\n",
    "criterion = torch.nn.BCELoss()\n",
    "graph_data = graph_data.to(device)"
   ]
  },
  {
   "cell_type": "markdown",
   "metadata": {},
   "source": [
    "optimizer = torch.optim.Adam(model.parameters(), lr=0.0001)\n",
    "\n",
    "class_weights = compute_class_weight('balanced', classes=np.array([0, 1]), y=graph_data.y.cpu().numpy())\n",
    "pos_weight = torch.tensor([class_weights[1]], dtype=torch.float).to(device)\n",
    "criterion = torch.nn.BCEWithLogitsLoss(pos_weight=pos_weight)\n",
    "\n",
    "graph_data = graph_data.to(device)"
   ]
  },
  {
   "cell_type": "code",
   "execution_count": 29,
   "metadata": {},
   "outputs": [],
   "source": [
    "import matplotlib.pyplot as plt\n",
    "%matplotlib inline\n",
    "\n",
    "from sklearn.metrics import roc_curve, auc\n",
    "\n",
    "def plot_roc_curve(y_true, y_pred_probs):\n",
    "    fpr, tpr, _ = roc_curve(y_true, y_pred_probs)\n",
    "    roc_auc = auc(fpr, tpr)\n",
    "\n",
    "    plt.figure(figsize=(8, 6))\n",
    "    plt.plot(fpr, tpr, color='blue', lw=2, label=f'ROC curve (AUC = {roc_auc:.4f})')\n",
    "    plt.plot([0, 1], [0, 1], color='grey', linestyle='--')  # Linha aleatória\n",
    "    plt.xlim([0.0, 1.0])\n",
    "    plt.ylim([0.0, 1.05])\n",
    "    plt.xlabel('Taxa de Falsos Positivos (FPR)')\n",
    "    plt.ylabel('Taxa de Verdadeiros Positivos (TPR)')\n",
    "    plt.title('Curva ROC')\n",
    "    plt.legend(loc=\"lower right\")\n",
    "    plt.grid()\n",
    "    plt.show()"
   ]
  },
  {
   "cell_type": "code",
   "execution_count": null,
   "metadata": {},
   "outputs": [
    {
     "name": "stderr",
     "output_type": "stream",
     "text": [
      "Epoch 1/100 [Train]: 100%|██████████| 227/227 [00:12<00:00, 18.10it/s]\n",
      "Epoch 1/100 [Eval]: 100%|██████████| 26/26 [00:01<00:00, 18.19it/s]\n"
     ]
    },
    {
     "name": "stdout",
     "output_type": "stream",
     "text": [
      "\n",
      "Epoch 1/100 | Train Loss: 0.8036 | AUC: 0.3766 | Time: 12.57s\n"
     ]
    },
    {
     "name": "stderr",
     "output_type": "stream",
     "text": [
      "Epoch 2/100 [Train]: 100%|██████████| 227/227 [00:12<00:00, 17.69it/s]\n",
      "Epoch 3/100 [Train]: 100%|██████████| 227/227 [00:12<00:00, 17.61it/s]\n",
      "Epoch 4/100 [Train]: 100%|██████████| 227/227 [00:12<00:00, 17.67it/s]\n",
      "Epoch 5/100 [Train]: 100%|██████████| 227/227 [00:12<00:00, 17.72it/s]\n",
      "Epoch 6/100 [Train]: 100%|██████████| 227/227 [00:12<00:00, 17.55it/s]\n",
      "Epoch 6/100 [Eval]: 100%|██████████| 26/26 [00:01<00:00, 16.74it/s]\n"
     ]
    },
    {
     "name": "stdout",
     "output_type": "stream",
     "text": [
      "\n",
      "Epoch 6/100 | Train Loss: 0.3315 | AUC: 0.3653 | Time: 12.93s\n"
     ]
    },
    {
     "name": "stderr",
     "output_type": "stream",
     "text": [
      "Epoch 7/100 [Train]: 100%|██████████| 227/227 [00:12<00:00, 17.67it/s]\n",
      "Epoch 8/100 [Train]: 100%|██████████| 227/227 [00:13<00:00, 17.45it/s]\n",
      "Epoch 9/100 [Train]: 100%|██████████| 227/227 [00:13<00:00, 17.42it/s]\n",
      "Epoch 10/100 [Train]: 100%|██████████| 227/227 [00:13<00:00, 17.44it/s]\n",
      "Epoch 11/100 [Train]: 100%|██████████| 227/227 [00:13<00:00, 17.38it/s]\n",
      "Epoch 11/100 [Eval]: 100%|██████████| 26/26 [00:01<00:00, 17.59it/s]\n"
     ]
    },
    {
     "name": "stdout",
     "output_type": "stream",
     "text": [
      "\n",
      "Epoch 11/100 | Train Loss: 0.2576 | AUC: 0.4039 | Time: 13.06s\n"
     ]
    },
    {
     "name": "stderr",
     "output_type": "stream",
     "text": [
      "Epoch 12/100 [Train]: 100%|██████████| 227/227 [00:12<00:00, 17.87it/s]\n",
      "Epoch 13/100 [Train]: 100%|██████████| 227/227 [00:13<00:00, 17.45it/s]\n",
      "Epoch 14/100 [Train]: 100%|██████████| 227/227 [00:12<00:00, 17.56it/s]\n",
      "Epoch 15/100 [Train]: 100%|██████████| 227/227 [00:12<00:00, 17.59it/s]\n",
      "Epoch 16/100 [Train]: 100%|██████████| 227/227 [00:12<00:00, 17.50it/s]\n",
      "Epoch 16/100 [Eval]: 100%|██████████| 26/26 [00:01<00:00, 17.57it/s]\n"
     ]
    },
    {
     "name": "stdout",
     "output_type": "stream",
     "text": [
      "\n",
      "Epoch 16/100 | Train Loss: 0.1967 | AUC: 0.4613 | Time: 12.97s\n"
     ]
    },
    {
     "name": "stderr",
     "output_type": "stream",
     "text": [
      "Epoch 17/100 [Train]: 100%|██████████| 227/227 [00:12<00:00, 17.93it/s]\n",
      "Epoch 18/100 [Train]: 100%|██████████| 227/227 [00:12<00:00, 17.51it/s]\n",
      "Epoch 19/100 [Train]: 100%|██████████| 227/227 [00:12<00:00, 17.52it/s]\n",
      "Epoch 20/100 [Train]: 100%|██████████| 227/227 [00:12<00:00, 17.50it/s]\n",
      "Epoch 21/100 [Train]: 100%|██████████| 227/227 [00:13<00:00, 17.35it/s]\n",
      "Epoch 21/100 [Eval]: 100%|██████████| 26/26 [00:01<00:00, 17.04it/s]\n"
     ]
    },
    {
     "name": "stdout",
     "output_type": "stream",
     "text": [
      "\n",
      "Epoch 21/100 | Train Loss: 0.1523 | AUC: 0.4381 | Time: 13.09s\n"
     ]
    },
    {
     "name": "stderr",
     "output_type": "stream",
     "text": [
      "Epoch 22/100 [Train]: 100%|██████████| 227/227 [00:12<00:00, 17.89it/s]\n",
      "Epoch 23/100 [Train]: 100%|██████████| 227/227 [00:13<00:00, 17.30it/s]\n",
      "Epoch 24/100 [Train]: 100%|██████████| 227/227 [00:12<00:00, 17.70it/s]\n",
      "Epoch 25/100 [Train]: 100%|██████████| 227/227 [00:12<00:00, 17.59it/s]\n",
      "Epoch 26/100 [Train]: 100%|██████████| 227/227 [00:12<00:00, 17.60it/s]\n",
      "Epoch 26/100 [Eval]: 100%|██████████| 26/26 [00:01<00:00, 17.97it/s]\n"
     ]
    },
    {
     "name": "stdout",
     "output_type": "stream",
     "text": [
      "\n",
      "Epoch 26/100 | Train Loss: 0.1191 | AUC: 0.4095 | Time: 12.90s\n"
     ]
    },
    {
     "name": "stderr",
     "output_type": "stream",
     "text": [
      "Epoch 27/100 [Train]: 100%|██████████| 227/227 [00:12<00:00, 17.96it/s]\n",
      "Epoch 28/100 [Train]: 100%|██████████| 227/227 [00:12<00:00, 17.53it/s]\n",
      "Epoch 29/100 [Train]: 100%|██████████| 227/227 [00:13<00:00, 17.31it/s]\n",
      "Epoch 30/100 [Train]: 100%|██████████| 227/227 [00:13<00:00, 17.40it/s]\n",
      "Epoch 31/100 [Train]: 100%|██████████| 227/227 [00:13<00:00, 17.39it/s]\n",
      "Epoch 31/100 [Eval]: 100%|██████████| 26/26 [00:01<00:00, 17.68it/s]\n"
     ]
    },
    {
     "name": "stdout",
     "output_type": "stream",
     "text": [
      "\n",
      "Epoch 31/100 | Train Loss: 0.0958 | AUC: 0.3861 | Time: 13.05s\n"
     ]
    },
    {
     "name": "stderr",
     "output_type": "stream",
     "text": [
      "Epoch 32/100 [Train]: 100%|██████████| 227/227 [00:12<00:00, 17.74it/s]\n",
      "Epoch 33/100 [Train]: 100%|██████████| 227/227 [00:13<00:00, 17.46it/s]\n",
      "Epoch 34/100 [Train]: 100%|██████████| 227/227 [00:13<00:00, 17.29it/s]\n",
      "Epoch 35/100 [Train]: 100%|██████████| 227/227 [00:13<00:00, 17.44it/s]\n",
      "Epoch 36/100 [Train]: 100%|██████████| 227/227 [00:12<00:00, 17.61it/s]\n",
      "Epoch 36/100 [Eval]: 100%|██████████| 26/26 [00:01<00:00, 18.21it/s]\n"
     ]
    },
    {
     "name": "stdout",
     "output_type": "stream",
     "text": [
      "\n",
      "Epoch 36/100 | Train Loss: 0.0820 | AUC: 0.3981 | Time: 12.89s\n"
     ]
    },
    {
     "name": "stderr",
     "output_type": "stream",
     "text": [
      "Epoch 37/100 [Train]: 100%|██████████| 227/227 [00:12<00:00, 17.84it/s]\n",
      "Epoch 38/100 [Train]: 100%|██████████| 227/227 [00:12<00:00, 17.53it/s]\n",
      "Epoch 39/100 [Train]: 100%|██████████| 227/227 [00:12<00:00, 17.53it/s]\n",
      "Epoch 40/100 [Train]: 100%|██████████| 227/227 [00:13<00:00, 17.41it/s]\n",
      "Epoch 41/100 [Train]: 100%|██████████| 227/227 [00:12<00:00, 17.70it/s]\n",
      "Epoch 41/100 [Eval]: 100%|██████████| 26/26 [00:01<00:00, 17.85it/s]\n"
     ]
    },
    {
     "name": "stdout",
     "output_type": "stream",
     "text": [
      "\n",
      "Epoch 41/100 | Train Loss: 0.0736 | AUC: 0.4314 | Time: 12.83s\n"
     ]
    },
    {
     "name": "stderr",
     "output_type": "stream",
     "text": [
      "Epoch 42/100 [Train]: 100%|██████████| 227/227 [00:12<00:00, 17.96it/s]\n",
      "Epoch 43/100 [Train]: 100%|██████████| 227/227 [00:12<00:00, 17.60it/s]\n",
      "Epoch 44/100 [Train]: 100%|██████████| 227/227 [00:12<00:00, 17.64it/s]\n",
      "Epoch 45/100 [Train]: 100%|██████████| 227/227 [00:13<00:00, 17.46it/s]\n",
      "Epoch 46/100 [Train]: 100%|██████████| 227/227 [00:12<00:00, 17.52it/s]\n",
      "Epoch 46/100 [Eval]: 100%|██████████| 26/26 [00:01<00:00, 17.30it/s]\n"
     ]
    },
    {
     "name": "stdout",
     "output_type": "stream",
     "text": [
      "\n",
      "Epoch 46/100 | Train Loss: 0.0696 | AUC: 0.4619 | Time: 12.96s\n"
     ]
    },
    {
     "name": "stderr",
     "output_type": "stream",
     "text": [
      "Epoch 47/100 [Train]: 100%|██████████| 227/227 [00:12<00:00, 17.79it/s]\n",
      "Epoch 48/100 [Train]: 100%|██████████| 227/227 [00:12<00:00, 17.67it/s]\n",
      "Epoch 49/100 [Train]: 100%|██████████| 227/227 [00:13<00:00, 17.32it/s]\n",
      "Epoch 50/100 [Train]: 100%|██████████| 227/227 [00:13<00:00, 16.79it/s]\n",
      "Epoch 51/100 [Train]: 100%|██████████| 227/227 [00:12<00:00, 17.48it/s]\n",
      "Epoch 51/100 [Eval]: 100%|██████████| 26/26 [00:01<00:00, 18.40it/s]\n"
     ]
    },
    {
     "name": "stdout",
     "output_type": "stream",
     "text": [
      "\n",
      "Epoch 51/100 | Train Loss: 0.0680 | AUC: 0.5801 | Time: 12.99s\n"
     ]
    },
    {
     "name": "stderr",
     "output_type": "stream",
     "text": [
      "Epoch 52/100 [Train]: 100%|██████████| 227/227 [00:13<00:00, 17.45it/s]\n",
      "Epoch 53/100 [Train]: 100%|██████████| 227/227 [00:12<00:00, 18.04it/s]\n",
      "Epoch 54/100 [Train]: 100%|██████████| 227/227 [00:12<00:00, 17.93it/s]\n",
      "Epoch 55/100 [Train]: 100%|██████████| 227/227 [00:12<00:00, 18.19it/s]\n",
      "Epoch 56/100 [Train]: 100%|██████████| 227/227 [00:12<00:00, 18.16it/s]\n",
      "Epoch 56/100 [Eval]: 100%|██████████| 26/26 [00:01<00:00, 19.90it/s]\n"
     ]
    },
    {
     "name": "stdout",
     "output_type": "stream",
     "text": [
      "\n",
      "Epoch 56/100 | Train Loss: 0.0675 | AUC: 0.6308 | Time: 12.50s\n"
     ]
    },
    {
     "name": "stderr",
     "output_type": "stream",
     "text": [
      "Epoch 57/100 [Train]: 100%|██████████| 227/227 [00:12<00:00, 18.17it/s]\n",
      "Epoch 58/100 [Train]: 100%|██████████| 227/227 [00:12<00:00, 18.47it/s]\n",
      "Epoch 59/100 [Train]: 100%|██████████| 227/227 [00:12<00:00, 17.84it/s]\n",
      "Epoch 60/100 [Train]: 100%|██████████| 227/227 [00:12<00:00, 18.16it/s]\n",
      "Epoch 61/100 [Train]: 100%|██████████| 227/227 [00:12<00:00, 18.21it/s]\n",
      "Epoch 61/100 [Eval]: 100%|██████████| 26/26 [00:01<00:00, 19.36it/s]\n"
     ]
    },
    {
     "name": "stdout",
     "output_type": "stream",
     "text": [
      "\n",
      "Epoch 61/100 | Train Loss: 0.0672 | AUC: 0.6251 | Time: 12.47s\n"
     ]
    },
    {
     "name": "stderr",
     "output_type": "stream",
     "text": [
      "Epoch 62/100 [Train]: 100%|██████████| 227/227 [00:12<00:00, 17.64it/s]\n",
      "Epoch 63/100 [Train]: 100%|██████████| 227/227 [00:12<00:00, 18.29it/s]\n",
      "Epoch 64/100 [Train]: 100%|██████████| 227/227 [00:12<00:00, 18.10it/s]\n",
      "Epoch 65/100 [Train]: 100%|██████████| 227/227 [00:12<00:00, 17.99it/s]\n",
      "Epoch 66/100 [Train]: 100%|██████████| 227/227 [00:12<00:00, 18.16it/s]\n",
      "Epoch 66/100 [Eval]: 100%|██████████| 26/26 [00:01<00:00, 19.67it/s]\n"
     ]
    },
    {
     "name": "stdout",
     "output_type": "stream",
     "text": [
      "\n",
      "Epoch 66/100 | Train Loss: 0.0669 | AUC: 0.6339 | Time: 12.50s\n"
     ]
    },
    {
     "name": "stderr",
     "output_type": "stream",
     "text": [
      "Epoch 67/100 [Train]: 100%|██████████| 227/227 [00:12<00:00, 17.88it/s]\n",
      "Epoch 68/100 [Train]: 100%|██████████| 227/227 [00:12<00:00, 18.25it/s]\n",
      "Epoch 69/100 [Train]: 100%|██████████| 227/227 [00:12<00:00, 17.94it/s]\n",
      "Epoch 70/100 [Train]: 100%|██████████| 227/227 [00:12<00:00, 18.59it/s]\n",
      "Epoch 71/100 [Train]: 100%|██████████| 227/227 [00:12<00:00, 18.15it/s]\n",
      "Epoch 71/100 [Eval]: 100%|██████████| 26/26 [00:01<00:00, 19.07it/s]\n"
     ]
    },
    {
     "name": "stdout",
     "output_type": "stream",
     "text": [
      "\n",
      "Epoch 71/100 | Train Loss: 0.0670 | AUC: 0.6293 | Time: 12.51s\n"
     ]
    },
    {
     "name": "stderr",
     "output_type": "stream",
     "text": [
      "Epoch 72/100 [Train]: 100%|██████████| 227/227 [00:12<00:00, 18.17it/s]\n",
      "Epoch 73/100 [Train]: 100%|██████████| 227/227 [00:12<00:00, 18.09it/s]\n",
      "Epoch 74/100 [Train]: 100%|██████████| 227/227 [00:12<00:00, 18.18it/s]\n",
      "Epoch 75/100 [Train]: 100%|██████████| 227/227 [00:12<00:00, 18.39it/s]\n",
      "Epoch 76/100 [Train]: 100%|██████████| 227/227 [00:13<00:00, 16.22it/s]\n",
      "Epoch 76/100 [Eval]: 100%|██████████| 26/26 [00:01<00:00, 18.99it/s]\n"
     ]
    },
    {
     "name": "stdout",
     "output_type": "stream",
     "text": [
      "\n",
      "Epoch 76/100 | Train Loss: 0.0668 | AUC: 0.6308 | Time: 13.99s\n"
     ]
    },
    {
     "name": "stderr",
     "output_type": "stream",
     "text": [
      "Epoch 77/100 [Train]: 100%|██████████| 227/227 [00:12<00:00, 17.86it/s]\n",
      "Epoch 78/100 [Train]: 100%|██████████| 227/227 [00:12<00:00, 18.12it/s]\n",
      "Epoch 79/100 [Train]: 100%|██████████| 227/227 [00:12<00:00, 18.39it/s]\n",
      "Epoch 80/100 [Train]: 100%|██████████| 227/227 [00:12<00:00, 17.80it/s]\n",
      "Epoch 81/100 [Train]: 100%|██████████| 227/227 [00:12<00:00, 18.03it/s]\n",
      "Epoch 81/100 [Eval]: 100%|██████████| 26/26 [00:01<00:00, 21.30it/s]\n"
     ]
    },
    {
     "name": "stdout",
     "output_type": "stream",
     "text": [
      "\n",
      "Epoch 81/100 | Train Loss: 0.0668 | AUC: 0.6256 | Time: 12.59s\n"
     ]
    },
    {
     "name": "stderr",
     "output_type": "stream",
     "text": [
      "Epoch 82/100 [Train]: 100%|██████████| 227/227 [00:12<00:00, 18.02it/s]\n",
      "Epoch 83/100 [Train]: 100%|██████████| 227/227 [00:12<00:00, 17.96it/s]\n",
      "Epoch 84/100 [Train]: 100%|██████████| 227/227 [00:12<00:00, 18.00it/s]\n",
      "Epoch 85/100 [Train]: 100%|██████████| 227/227 [00:12<00:00, 17.96it/s]\n",
      "Epoch 86/100 [Train]: 100%|██████████| 227/227 [00:12<00:00, 17.67it/s]\n",
      "Epoch 86/100 [Eval]: 100%|██████████| 26/26 [00:01<00:00, 21.38it/s]\n"
     ]
    },
    {
     "name": "stdout",
     "output_type": "stream",
     "text": [
      "\n",
      "Epoch 86/100 | Train Loss: 0.0668 | AUC: 0.6229 | Time: 12.85s\n"
     ]
    },
    {
     "name": "stderr",
     "output_type": "stream",
     "text": [
      "Epoch 87/100 [Train]: 100%|██████████| 227/227 [00:12<00:00, 18.35it/s]\n",
      "Epoch 88/100 [Train]: 100%|██████████| 227/227 [00:12<00:00, 17.79it/s]\n",
      "Epoch 89/100 [Train]: 100%|██████████| 227/227 [00:12<00:00, 18.14it/s]\n",
      "Epoch 90/100 [Train]: 100%|██████████| 227/227 [00:12<00:00, 17.97it/s]\n",
      "Epoch 91/100 [Train]: 100%|██████████| 227/227 [00:12<00:00, 18.14it/s]\n",
      "Epoch 91/100 [Eval]: 100%|██████████| 26/26 [00:01<00:00, 18.72it/s]\n"
     ]
    },
    {
     "name": "stdout",
     "output_type": "stream",
     "text": [
      "\n",
      "Epoch 91/100 | Train Loss: 0.0669 | AUC: 0.6190 | Time: 12.51s\n"
     ]
    },
    {
     "name": "stderr",
     "output_type": "stream",
     "text": [
      "Epoch 92/100 [Train]: 100%|██████████| 227/227 [00:12<00:00, 18.02it/s]\n",
      "Epoch 93/100 [Train]: 100%|██████████| 227/227 [00:12<00:00, 18.16it/s]\n",
      "Epoch 94/100 [Train]: 100%|██████████| 227/227 [00:12<00:00, 18.40it/s]\n",
      "Epoch 95/100 [Train]: 100%|██████████| 227/227 [00:12<00:00, 18.34it/s]\n",
      "Epoch 96/100 [Train]: 100%|██████████| 227/227 [00:12<00:00, 17.70it/s]\n",
      "Epoch 96/100 [Eval]: 100%|██████████| 26/26 [00:01<00:00, 17.80it/s]\n"
     ]
    },
    {
     "name": "stdout",
     "output_type": "stream",
     "text": [
      "\n",
      "Epoch 96/100 | Train Loss: 0.0667 | AUC: 0.6191 | Time: 12.83s\n"
     ]
    },
    {
     "name": "stderr",
     "output_type": "stream",
     "text": [
      "Epoch 97/100 [Train]: 100%|██████████| 227/227 [00:12<00:00, 18.02it/s]\n",
      "Epoch 98/100 [Train]: 100%|██████████| 227/227 [00:12<00:00, 17.99it/s]\n",
      "Epoch 99/100 [Train]: 100%|██████████| 227/227 [00:12<00:00, 18.19it/s]\n",
      "Epoch 100/100 [Train]: 100%|██████████| 227/227 [00:12<00:00, 18.10it/s]\n"
     ]
    }
   ],
   "source": [
    "num_epochs = 100\n",
    "for epoch in range(num_epochs):\n",
    "    start_time = time.time()\n",
    "    model.train()\n",
    "    running_loss = 0.0 \n",
    "    \n",
    "    for batch in tqdm(train_loader, desc=f\"Epoch {epoch+1}/{num_epochs} [Train]\"):\n",
    "        optimizer.zero_grad()\n",
    "        out = model(batch.x, batch.edge_index, batch.edge_attr)\n",
    "        loss = criterion(out, batch.y.unsqueeze(1))\n",
    "        loss.backward()\n",
    "        torch.nn.utils.clip_grad_norm_(model.parameters(), max_norm=1.0)\n",
    "        optimizer.step()\n",
    "        running_loss += loss.item()\n",
    "    avg_train_loss = running_loss / len(train_loader)\n",
    "    end_time = time.time()\n",
    "    epoch_duration = end_time - start_time\n",
    "    if epoch % 5 == 0:\n",
    "        model.eval()\n",
    "        y_true, y_pred_probs = [], []\n",
    "        \n",
    "        with torch.no_grad():\n",
    "            for batch in tqdm(test_loader, desc=f\"Epoch {epoch+1}/{num_epochs} [Eval]\"):\n",
    "                out = model(batch.x, batch.edge_index, batch.edge_attr)\n",
    "                y_true.extend(batch.y.cpu().numpy())\n",
    "                y_pred_probs.extend(out.cpu().numpy())\n",
    "\n",
    "        y_pred_probs = np.array(y_pred_probs).flatten()\n",
    "        auc_score = roc_auc_score(y_true, y_pred_probs)\n",
    "        print(f\"\\nEpoch {epoch+1}/{num_epochs} | Train Loss: {avg_train_loss:.4f} | AUC: {auc_score:.4f} | Time: {epoch_duration:.2f}s\")"
   ]
  },
  {
   "cell_type": "markdown",
   "metadata": {},
   "source": [
    "### Evaluation"
   ]
  },
  {
   "cell_type": "code",
   "execution_count": 31,
   "metadata": {},
   "outputs": [],
   "source": [
    "model.eval()\n",
    "y_true, y_pred_probs = [], []\n",
    "\n",
    "with torch.no_grad():\n",
    "    for batch in test_loader:\n",
    "        out = model(batch.x, batch.edge_index, batch.edge_attr)\n",
    "        y_true.extend(batch.y.cpu().numpy())\n",
    "        y_pred_probs.extend(out.cpu().numpy())\n",
    "\n",
    "y_pred_probs = np.array(y_pred_probs).flatten()\n",
    "#y_pred = (y_pred_probs >= 0.1).astype(int)  # Converter para 0/1"
   ]
  },
  {
   "cell_type": "code",
   "execution_count": 32,
   "metadata": {},
   "outputs": [
    {
     "data": {
      "image/png": "[encoded data removed]",
      "text/plain": [
       "<Figure size 800x600 with 1 Axes>"
      ]
     },
     "metadata": {},
     "output_type": "display_data"
    }
   ],
   "source": [
    "plot_roc_curve(y_true, y_pred_probs)"
   ]
  },
  {
   "cell_type": "code",
   "execution_count": null,
   "metadata": {},
   "outputs": [],
   "source": []
  }
 ],
 "metadata": {
  "kernelspec": {
   "display_name": "Python 3",
   "language": "python",
   "name": "python3"
  },
  "language_info": {
   "codemirror_mode": {
    "name": "ipython",
    "version": 3
   },
   "file_extension": ".py",
   "mimetype": "text/x-python",
   "name": "python",
   "nbconvert_exporter": "python",
   "pygments_lexer": "ipython3",
   "version": "3.12.5"
  }
 },
 "nbformat": 4,
 "nbformat_minor": 2
}
