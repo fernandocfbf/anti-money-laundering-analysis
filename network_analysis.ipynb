{
 "cells": [
  {
   "cell_type": "markdown",
   "metadata": {},
   "source": [
    "### Imports\n",
    "---"
   ]
  },
  {
   "cell_type": "code",
   "execution_count": 1,
   "metadata": {},
   "outputs": [],
   "source": [
    "import pandas as pd\n",
    "import networkx as nx\n",
    "from pyvis import network\n",
    "\n",
    "#utils\n",
    "from src.utils.dataset import get_network_analysis_dataset"
   ]
  },
  {
   "cell_type": "markdown",
   "metadata": {},
   "source": [
    "### Dataframe preparation\n",
    "---"
   ]
  },
  {
   "cell_type": "code",
   "execution_count": 2,
   "metadata": {},
   "outputs": [],
   "source": [
    "transactions_df = get_network_analysis_dataset()"
   ]
  },
  {
   "cell_type": "code",
   "execution_count": 3,
   "metadata": {},
   "outputs": [
    {
     "data": {
      "text/html": [
       "<div>\n",
       "<style scoped>\n",
       "    .dataframe tbody tr th:only-of-type {\n",
       "        vertical-align: middle;\n",
       "    }\n",
       "\n",
       "    .dataframe tbody tr th {\n",
       "        vertical-align: top;\n",
       "    }\n",
       "\n",
       "    .dataframe thead th {\n",
       "        text-align: right;\n",
       "    }\n",
       "</style>\n",
       "<table border=\"1\" class=\"dataframe\">\n",
       "  <thead>\n",
       "    <tr style=\"text-align: right;\">\n",
       "      <th></th>\n",
       "      <th>sender</th>\n",
       "      <th>receiver</th>\n",
       "      <th>value</th>\n",
       "      <th>title</th>\n",
       "    </tr>\n",
       "  </thead>\n",
       "  <tbody>\n",
       "    <tr>\n",
       "      <th>0</th>\n",
       "      <td>10057_803A115E0</td>\n",
       "      <td>29467_803E020C0</td>\n",
       "      <td>10279215.10</td>\n",
       "      <td>from: 10057_803A115E0\\nto: 29467_803E020C0\\nam...</td>\n",
       "    </tr>\n",
       "    <tr>\n",
       "      <th>1</th>\n",
       "      <td>10057_803AA8E90</td>\n",
       "      <td>10099_804672160</td>\n",
       "      <td>5324508.42</td>\n",
       "      <td>from: 10057_803AA8E90\\nto: 10099_804672160\\nam...</td>\n",
       "    </tr>\n",
       "  </tbody>\n",
       "</table>\n",
       "</div>"
      ],
      "text/plain": [
       "            sender         receiver        value  \\\n",
       "0  10057_803A115E0  29467_803E020C0  10279215.10   \n",
       "1  10057_803AA8E90  10099_804672160   5324508.42   \n",
       "\n",
       "                                               title  \n",
       "0  from: 10057_803A115E0\\nto: 29467_803E020C0\\nam...  \n",
       "1  from: 10057_803AA8E90\\nto: 10099_804672160\\nam...  "
      ]
     },
     "execution_count": 3,
     "metadata": {},
     "output_type": "execute_result"
    }
   ],
   "source": [
    "transactions_df.head(2)"
   ]
  },
  {
   "cell_type": "code",
   "execution_count": 4,
   "metadata": {},
   "outputs": [
    {
     "data": {
      "text/plain": [
       "(100000, 4)"
      ]
     },
     "execution_count": 4,
     "metadata": {},
     "output_type": "execute_result"
    }
   ],
   "source": [
    "transactions_df.shape"
   ]
  },
  {
   "cell_type": "markdown",
   "metadata": {},
   "source": [
    "### Network building\n",
    "---"
   ]
  },
  {
   "cell_type": "code",
   "execution_count": 5,
   "metadata": {},
   "outputs": [],
   "source": [
    "relationship_network = nx.from_pandas_edgelist(\n",
    "    transactions_df, \n",
    "    source=\"sender\", \n",
    "    target=\"receiver\", \n",
    "    edge_attr=[\"title\",\"value\"])"
   ]
  },
  {
   "cell_type": "code",
   "execution_count": 6,
   "metadata": {},
   "outputs": [],
   "source": [
    "degree_dict_G = dict(relationship_network.degree)\n",
    "nx.set_node_attributes(relationship_network, degree_dict_G, \"value\")"
   ]
  },
  {
   "cell_type": "code",
   "execution_count": 7,
   "metadata": {},
   "outputs": [],
   "source": [
    "account_id = '10057_803AA8E90'\n",
    "max_depth = 6\n",
    "max_nodes = 100\n",
    "physics = True"
   ]
  },
  {
   "cell_type": "code",
   "execution_count": 8,
   "metadata": {},
   "outputs": [],
   "source": [
    "title_dict_G, color_dict_G  = {}, {}\n",
    "for node in list(relationship_network.nodes):\n",
    "    title_dict_G[node] = f\"id: {node}\"\n",
    "    if node == account_id:\n",
    "        color_dict_G[node] = \"#6C757D\"\n",
    "    else:\n",
    "        color_dict_G[node] = \"#007BFF\"\n",
    "nx.set_node_attributes(relationship_network, title_dict_G, \"title\")\n",
    "nx.set_node_attributes(relationship_network, color_dict_G, \"color\")\n"
   ]
  },
  {
   "cell_type": "code",
   "execution_count": 9,
   "metadata": {},
   "outputs": [],
   "source": [
    "depths = nx.single_source_shortest_path_length(relationship_network, source=account_id, cutoff=max_depth)\n",
    "nodes = set()\n",
    "for i, node in enumerate(depths.keys()):\n",
    "    if i >= max_nodes:\n",
    "        break\n",
    "    nodes.add(node)\n",
    "subgraph = relationship_network.subgraph(nodes)"
   ]
  },
  {
   "cell_type": "code",
   "execution_count": 11,
   "metadata": {},
   "outputs": [],
   "source": [
    "nt = network.Network(directed=True)\n",
    "nt.from_nx(subgraph)\n",
    "nt.toggle_physics(physics)\n",
    "nt.save_graph('pyvis_network.html')"
   ]
  },
  {
   "cell_type": "code",
   "execution_count": null,
   "metadata": {},
   "outputs": [],
   "source": []
  }
 ],
 "metadata": {
  "kernelspec": {
   "display_name": "Python 3",
   "language": "python",
   "name": "python3"
  },
  "language_info": {
   "codemirror_mode": {
    "name": "ipython",
    "version": 3
   },
   "file_extension": ".py",
   "mimetype": "text/x-python",
   "name": "python",
   "nbconvert_exporter": "python",
   "pygments_lexer": "ipython3",
   "version": "3.12.5"
  }
 },
 "nbformat": 4,
 "nbformat_minor": 2
}
