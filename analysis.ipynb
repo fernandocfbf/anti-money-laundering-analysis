{
 "cells": [
  {
   "cell_type": "markdown",
   "metadata": {},
   "source": [
    "### Imports\n",
    "---"
   ]
  },
  {
   "cell_type": "code",
   "execution_count": 1,
   "metadata": {},
   "outputs": [],
   "source": [
    "import pandas as pd\n",
    "import networkx as nx\n",
    "from pyvis import network\n",
    "import matplotlib.pyplot as plt\n",
    "\n",
    "#utils\n",
    "from src.utils.dataset import get_dataset\n",
    "from src.utils.visualization import show_network"
   ]
  },
  {
   "cell_type": "markdown",
   "metadata": {},
   "source": [
    "### Dataframe preparation\n",
    "---"
   ]
  },
  {
   "cell_type": "code",
   "execution_count": 2,
   "metadata": {},
   "outputs": [],
   "source": [
    "transactions_df = get_dataset().head(500)"
   ]
  },
  {
   "cell_type": "code",
   "execution_count": null,
   "metadata": {},
   "outputs": [],
   "source": [
    "transactions_df.head(2)"
   ]
  },
  {
   "cell_type": "code",
   "execution_count": null,
   "metadata": {},
   "outputs": [],
   "source": [
    "transactions_df.shape"
   ]
  },
  {
   "cell_type": "code",
   "execution_count": 5,
   "metadata": {},
   "outputs": [],
   "source": [
    "relationships_df = transactions_df.groupby([\"sender\", \"receiver\"], as_index=False).agg({\"amount\": [\"count\", \"sum\"]})\n",
    "relationships_df.columns = ['sender','receiver','count','sum']\n",
    "relationships_df = relationships_df.rename(columns={\"sum\": \"value\"})"
   ]
  },
  {
   "cell_type": "code",
   "execution_count": 6,
   "metadata": {},
   "outputs": [],
   "source": [
    "relationships_df[\"title\"] = relationships_df.apply(lambda df: f\"from: {df.sender}\\nto: {df.receiver}\\namount (BRL): {df.value}\", axis=1)"
   ]
  },
  {
   "cell_type": "code",
   "execution_count": null,
   "metadata": {},
   "outputs": [],
   "source": [
    "relationships_df.head(2)"
   ]
  },
  {
   "cell_type": "markdown",
   "metadata": {},
   "source": [
    "### Network building\n",
    "---"
   ]
  },
  {
   "cell_type": "code",
   "execution_count": 8,
   "metadata": {},
   "outputs": [],
   "source": [
    "relationship_network = nx.from_pandas_edgelist(relationships_df, source=\"sender\", target=\"receiver\", edge_attr=[\"title\",\"value\"])"
   ]
  },
  {
   "cell_type": "code",
   "execution_count": 9,
   "metadata": {},
   "outputs": [],
   "source": [
    "degree_dict_G = dict(relationship_network.degree)\n",
    "nx.set_node_attributes(relationship_network, degree_dict_G, \"value\")"
   ]
  },
  {
   "cell_type": "code",
   "execution_count": 10,
   "metadata": {},
   "outputs": [],
   "source": [
    "title_dict_G = {}\n",
    "for node in list(relationship_network.nodes):\n",
    "    title_dict_G[node] = f\"id: {node}\"\n",
    "nx.set_node_attributes(relationship_network, title_dict_G, \"title\")"
   ]
  },
  {
   "cell_type": "markdown",
   "metadata": {},
   "source": [
    "### Setting groups\n",
    "---"
   ]
  },
  {
   "cell_type": "code",
   "execution_count": 11,
   "metadata": {},
   "outputs": [],
   "source": [
    "group_dict_H = {}\n",
    "for group, nodes in enumerate(sorted(list(nx.connected_components(relationship_network)), key=len, reverse=True), start=1):\n",
    "    for node in nodes:\n",
    "        group_dict_H[node] = group"
   ]
  },
  {
   "cell_type": "code",
   "execution_count": null,
   "metadata": {},
   "outputs": [],
   "source": [
    "groups = pd.DataFrame({\"source\":group_dict_H.keys(), \"group\":group_dict_H.values()}).sort_values(by=[\"group\",\"source\"])\n",
    "group_summary = groups.groupby(\"group\", as_index=False).agg({\"source\":\"count\"}).rename(columns={\"source\":\"num_of_nodes\"})"
   ]
  },
  {
   "cell_type": "code",
   "execution_count": 13,
   "metadata": {},
   "outputs": [],
   "source": [
    "nx.set_node_attributes(relationship_network, group_dict_H, \"group\")\n",
    "\n",
    "degree_dict_H = dict(relationship_network.degree)\n",
    "nx.set_node_attributes(relationship_network, degree_dict_H, \"value\")\n",
    "\n",
    "neighbor_dict_H = {}\n",
    "for node in list(relationship_network.nodes):\n",
    "    neighbor_dict_H[node] = ','.join(str(relationship_network.neighbors(node)))\n",
    "\n",
    "title_dict_H = {}\n",
    "for node in list(relationship_network.nodes):\n",
    "    title_dict_H[node] = f\"id: {node}\\ngroup: {group_dict_H[node]}\\ndegree: {degree_dict_H[node]}\"\n",
    "nx.set_node_attributes(relationship_network, title_dict_H, \"title\")"
   ]
  },
  {
   "cell_type": "code",
   "execution_count": null,
   "metadata": {},
   "outputs": [],
   "source": [
    "show_network(relationship_network, \"pyvis_network.html\", physics=True)"
   ]
  },
  {
   "cell_type": "code",
   "execution_count": null,
   "metadata": {},
   "outputs": [],
   "source": []
  }
 ],
 "metadata": {
  "kernelspec": {
   "display_name": "Python 3",
   "language": "python",
   "name": "python3"
  },
  "language_info": {
   "codemirror_mode": {
    "name": "ipython",
    "version": 3
   },
   "file_extension": ".py",
   "mimetype": "text/x-python",
   "name": "python",
   "nbconvert_exporter": "python",
   "pygments_lexer": "ipython3",
   "version": "3.12.5"
  }
 },
 "nbformat": 4,
 "nbformat_minor": 2
}
