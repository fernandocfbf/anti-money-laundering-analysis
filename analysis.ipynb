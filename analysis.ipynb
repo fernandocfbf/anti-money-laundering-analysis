{
 "cells": [
  {
   "cell_type": "markdown",
   "metadata": {},
   "source": [
    "### Imports\n",
    "---"
   ]
  },
  {
   "cell_type": "code",
   "execution_count": 1,
   "metadata": {},
   "outputs": [],
   "source": [
    "import pandas as pd\n",
    "import networkx as nx\n",
    "from pyvis import network\n",
    "import matplotlib.pyplot as plt\n",
    "\n",
    "#utils\n",
    "from src.utils.dataset import get_dataset\n",
    "from src.utils.visualization import generate_network"
   ]
  },
  {
   "cell_type": "markdown",
   "metadata": {},
   "source": [
    "### Dataframe preparation\n",
    "---"
   ]
  },
  {
   "cell_type": "code",
   "execution_count": 2,
   "metadata": {},
   "outputs": [],
   "source": [
    "transactions_df = get_dataset().head(500)"
   ]
  },
  {
   "cell_type": "code",
   "execution_count": 3,
   "metadata": {},
   "outputs": [
    {
     "data": {
      "text/html": [
       "<div>\n",
       "<style scoped>\n",
       "    .dataframe tbody tr th:only-of-type {\n",
       "        vertical-align: middle;\n",
       "    }\n",
       "\n",
       "    .dataframe tbody tr th {\n",
       "        vertical-align: top;\n",
       "    }\n",
       "\n",
       "    .dataframe thead th {\n",
       "        text-align: right;\n",
       "    }\n",
       "</style>\n",
       "<table border=\"1\" class=\"dataframe\">\n",
       "  <thead>\n",
       "    <tr style=\"text-align: right;\">\n",
       "      <th></th>\n",
       "      <th>sender</th>\n",
       "      <th>receiver</th>\n",
       "      <th>amount</th>\n",
       "    </tr>\n",
       "  </thead>\n",
       "  <tbody>\n",
       "    <tr>\n",
       "      <th>0</th>\n",
       "      <td>6456</td>\n",
       "      <td>9069</td>\n",
       "      <td>465.05</td>\n",
       "    </tr>\n",
       "    <tr>\n",
       "      <th>1</th>\n",
       "      <td>7516</td>\n",
       "      <td>9543</td>\n",
       "      <td>564.64</td>\n",
       "    </tr>\n",
       "  </tbody>\n",
       "</table>\n",
       "</div>"
      ],
      "text/plain": [
       "   sender  receiver  amount\n",
       "0    6456      9069  465.05\n",
       "1    7516      9543  564.64"
      ]
     },
     "execution_count": 3,
     "metadata": {},
     "output_type": "execute_result"
    }
   ],
   "source": [
    "transactions_df.head(2)"
   ]
  },
  {
   "cell_type": "code",
   "execution_count": 4,
   "metadata": {},
   "outputs": [
    {
     "data": {
      "text/plain": [
       "(500, 3)"
      ]
     },
     "execution_count": 4,
     "metadata": {},
     "output_type": "execute_result"
    }
   ],
   "source": [
    "transactions_df.shape"
   ]
  },
  {
   "cell_type": "code",
   "execution_count": 5,
   "metadata": {},
   "outputs": [],
   "source": [
    "relationships_df = transactions_df.groupby([\"sender\", \"receiver\"], as_index=False).agg({\"amount\":  \"sum\"})\n",
    "relationships_df.columns = ['sender','receiver','sum']\n",
    "relationships_df = relationships_df.rename(columns={\"sum\": \"value\"})"
   ]
  },
  {
   "cell_type": "code",
   "execution_count": 6,
   "metadata": {},
   "outputs": [],
   "source": [
    "relationships_df[\"title\"] = relationships_df.apply(lambda df: f\"from: {df.sender}\\nto: {df.receiver}\\namount (BRL): {df.value}\", axis=1)"
   ]
  },
  {
   "cell_type": "code",
   "execution_count": 7,
   "metadata": {},
   "outputs": [
    {
     "data": {
      "text/html": [
       "<div>\n",
       "<style scoped>\n",
       "    .dataframe tbody tr th:only-of-type {\n",
       "        vertical-align: middle;\n",
       "    }\n",
       "\n",
       "    .dataframe tbody tr th {\n",
       "        vertical-align: top;\n",
       "    }\n",
       "\n",
       "    .dataframe thead th {\n",
       "        text-align: right;\n",
       "    }\n",
       "</style>\n",
       "<table border=\"1\" class=\"dataframe\">\n",
       "  <thead>\n",
       "    <tr style=\"text-align: right;\">\n",
       "      <th></th>\n",
       "      <th>sender</th>\n",
       "      <th>receiver</th>\n",
       "      <th>value</th>\n",
       "      <th>title</th>\n",
       "    </tr>\n",
       "  </thead>\n",
       "  <tbody>\n",
       "    <tr>\n",
       "      <th>0</th>\n",
       "      <td>14</td>\n",
       "      <td>2909</td>\n",
       "      <td>80.91</td>\n",
       "      <td>from: 14.0\\nto: 2909.0\\namount (BRL): 80.91</td>\n",
       "    </tr>\n",
       "    <tr>\n",
       "      <th>1</th>\n",
       "      <td>14</td>\n",
       "      <td>7000</td>\n",
       "      <td>80.91</td>\n",
       "      <td>from: 14.0\\nto: 7000.0\\namount (BRL): 80.91</td>\n",
       "    </tr>\n",
       "  </tbody>\n",
       "</table>\n",
       "</div>"
      ],
      "text/plain": [
       "   sender  receiver  value                                        title\n",
       "0      14      2909  80.91  from: 14.0\\nto: 2909.0\\namount (BRL): 80.91\n",
       "1      14      7000  80.91  from: 14.0\\nto: 7000.0\\namount (BRL): 80.91"
      ]
     },
     "execution_count": 7,
     "metadata": {},
     "output_type": "execute_result"
    }
   ],
   "source": [
    "relationships_df.head(2)"
   ]
  },
  {
   "cell_type": "markdown",
   "metadata": {},
   "source": [
    "### Network building\n",
    "---"
   ]
  },
  {
   "cell_type": "code",
   "execution_count": 11,
   "metadata": {},
   "outputs": [],
   "source": [
    "relationship_network = nx.from_pandas_edgelist(relationships_df, source=\"sender\", target=\"receiver\", edge_attr=[\"title\",\"value\"])"
   ]
  },
  {
   "cell_type": "code",
   "execution_count": 12,
   "metadata": {},
   "outputs": [],
   "source": [
    "degree_dict_G = dict(relationship_network.degree)\n",
    "nx.set_node_attributes(relationship_network, degree_dict_G, \"value\")"
   ]
  },
  {
   "cell_type": "code",
   "execution_count": 13,
   "metadata": {},
   "outputs": [],
   "source": [
    "title_dict_G = {}\n",
    "for node in list(relationship_network.nodes):\n",
    "    title_dict_G[node] = f\"id: {node}\"\n",
    "nx.set_node_attributes(relationship_network, title_dict_G, \"title\")"
   ]
  },
  {
   "cell_type": "code",
   "execution_count": 14,
   "metadata": {},
   "outputs": [
    {
     "name": "stdout",
     "output_type": "stream",
     "text": [
      "pyvis_network.html\n"
     ]
    }
   ],
   "source": [
    "generate_network(relationship_network, \"pyvis_network.html\", physics=False)"
   ]
  },
  {
   "cell_type": "markdown",
   "metadata": {},
   "source": [
    "### Setting groups\n",
    "---"
   ]
  },
  {
   "cell_type": "code",
   "execution_count": 11,
   "metadata": {},
   "outputs": [],
   "source": [
    "group_dict_H = {}\n",
    "for group, nodes in enumerate(sorted(list(nx.connected_components(relationship_network)), key=len, reverse=True), start=1):\n",
    "    for node in nodes:\n",
    "        group_dict_H[node] = group"
   ]
  },
  {
   "cell_type": "code",
   "execution_count": 12,
   "metadata": {},
   "outputs": [],
   "source": [
    "groups = pd.DataFrame({\"source\":group_dict_H.keys(), \"group\":group_dict_H.values()}).sort_values(by=[\"group\",\"source\"])\n",
    "group_summary = groups.groupby(\"group\", as_index=False).agg({\"source\":\"count\"}).rename(columns={\"source\":\"num_of_nodes\"})"
   ]
  },
  {
   "cell_type": "code",
   "execution_count": 13,
   "metadata": {},
   "outputs": [],
   "source": [
    "nx.set_node_attributes(relationship_network, group_dict_H, \"group\")\n",
    "\n",
    "degree_dict_H = dict(relationship_network.degree)\n",
    "nx.set_node_attributes(relationship_network, degree_dict_H, \"value\")\n",
    "\n",
    "neighbor_dict_H = {}\n",
    "for node in list(relationship_network.nodes):\n",
    "    neighbor_dict_H[node] = ','.join(str(relationship_network.neighbors(node)))\n",
    "\n",
    "title_dict_H = {}\n",
    "for node in list(relationship_network.nodes):\n",
    "    title_dict_H[node] = f\"id: {node}\\ngroup: {group_dict_H[node]}\\ndegree: {degree_dict_H[node]}\"\n",
    "nx.set_node_attributes(relationship_network, title_dict_H, \"title\")"
   ]
  },
  {
   "cell_type": "code",
   "execution_count": null,
   "metadata": {},
   "outputs": [],
   "source": [
    "generate_network(relationship_network, \"pyvis_network.html\", physics=True)"
   ]
  }
 ],
 "metadata": {
  "kernelspec": {
   "display_name": "Python 3",
   "language": "python",
   "name": "python3"
  },
  "language_info": {
   "codemirror_mode": {
    "name": "ipython",
    "version": 3
   },
   "file_extension": ".py",
   "mimetype": "text/x-python",
   "name": "python",
   "nbconvert_exporter": "python",
   "pygments_lexer": "ipython3",
   "version": "3.12.5"
  }
 },
 "nbformat": 4,
 "nbformat_minor": 2
}
